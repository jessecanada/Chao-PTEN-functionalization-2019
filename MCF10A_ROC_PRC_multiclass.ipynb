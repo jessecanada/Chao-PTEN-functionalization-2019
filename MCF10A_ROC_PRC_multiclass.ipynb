{
 "cells": [
  {
   "cell_type": "code",
   "execution_count": 1,
   "metadata": {
    "collapsed": true
   },
   "outputs": [],
   "source": [
    "import pandas as pd\n",
    "import numpy as np\n",
    "from sklearn.metrics import roc_curve, auc\n",
    "from sklearn.model_selection import train_test_split\n",
    "from sklearn.preprocessing import label_binarize\n",
    "from sklearn.multiclass import OneVsRestClassifier\n",
    "from sklearn import svm\n",
    "import matplotlib.pyplot as plt\n",
    "import matplotlib as mpl"
   ]
  },
  {
   "cell_type": "code",
   "execution_count": 2,
   "metadata": {},
   "outputs": [
    {
     "name": "stdout",
     "output_type": "stream",
     "text": [
      "   variant  MCF10A score  CADD  SNAP2  PolyPhen  SIFT  WT_RSA (%)  \\\n",
      "0      K6E        0.3311  26.6     67     0.155  0.99         NaN   \n",
      "1      K6I        0.4544  27.3     64     0.244  1.00         NaN   \n",
      "2     R15S        0.3870  25.0     65     0.123  1.00        53.3   \n",
      "3     M35V        0.3606  25.0     44     0.914  1.00         0.0   \n",
      "4     P38H        0.3521  26.1     44     1.000  1.00         0.0   \n",
      "5     G44D        0.6232  26.0     65     0.968  1.00       117.5   \n",
      "6     A79T        0.5711  23.0    -95     0.005  0.41        86.3   \n",
      "7     D92N        0.2677  28.8     90     1.000  1.00        44.3   \n",
      "8     H93Q        0.3301  26.1     77     1.000  1.00        74.5   \n",
      "9     H93R        0.3930  27.0     83     0.998  0.97        74.5   \n",
      "10   I101F        0.8803  26.0      6     0.998  1.00         0.2   \n",
      "11   I101T        0.7138  29.0     44     0.998  1.00         0.2   \n",
      "\n",
      "    WT_DEPTH (_)  WT_OSP  MT_RSA (%)  MT_DEPTH (_)  MT_OSP  ground truth  \n",
      "0            NaN     NaN         NaN           NaN     NaN           NaN  \n",
      "1            NaN     NaN         NaN           NaN     NaN           NaN  \n",
      "2            3.6    0.32        52.3           3.6    0.37           NaN  \n",
      "3           10.8    0.53         2.7          10.3    0.50           NaN  \n",
      "4           10.5    0.60         0.0          11.3    0.62           NaN  \n",
      "5            3.4    0.14        98.9           3.3    0.12           NaN  \n",
      "6            3.1    0.19        80.2           3.2    0.19           2.0  \n",
      "7            3.7    0.32        44.6           3.9    0.34           NaN  \n",
      "8            3.4    0.22        78.0           3.5    0.21           NaN  \n",
      "9            3.4    0.22        79.1           3.4    0.16           NaN  \n",
      "10           8.7    0.49         0.8           8.8    0.56           NaN  \n",
      "11           8.7    0.49         2.8           8.4    0.44           NaN  \n"
     ]
    }
   ],
   "source": [
    "df = pd.read_csv('Datasets/PTEN_MCF10A_predictions_ref_set_multi_copy.csv',\n",
    "                index_col=False)\n",
    "print(df.head(12))"
   ]
  },
  {
   "cell_type": "code",
   "execution_count": 3,
   "metadata": {
    "scrolled": true
   },
   "outputs": [
    {
     "name": "stdout",
     "output_type": "stream",
     "text": [
      "   variant  MCF10A score  CADD  SNAP2  PolyPhen  SIFT  WT_RSA (%)  \\\n",
      "0     A79T        0.5711  23.0    -95     0.005  0.41        86.3   \n",
      "1    N117S        0.4916  21.0    -92     0.096  0.27        25.3   \n",
      "2    H123Q        0.9934  25.0     82     0.998  0.98         0.0   \n",
      "3    H123Y        0.6383  25.0     80     0.996  1.00         0.0   \n",
      "4    C124S        0.8797  27.3     83     1.000  1.00         4.3   \n",
      "5    C124R        0.6986  28.0     98     0.999  1.00         4.3   \n",
      "6    A126D        0.5325  28.2     76     1.000  1.00        55.7   \n",
      "7    G127R        0.9753  29.0     91     1.000  1.00         0.0   \n",
      "8    G129R        0.8214  29.0     92     1.000  1.00        18.3   \n",
      "9    G129E        0.8841  32.0     95     1.000  1.00        18.3   \n",
      "10   R130Q        0.5361  34.0     96     0.998  0.98         3.1   \n",
      "11   R130P        0.9134  34.0     93     0.999  1.00         3.1   \n",
      "12   R130L        0.4728  34.0     92     0.999  1.00         3.1   \n",
      "13   T131I        0.4788  26.0     80     0.999  0.98         0.0   \n",
      "14   G132D        0.6304  31.0     92     1.000  0.97         0.0   \n",
      "15   Y155C        0.5901  33.0     22     0.999  1.00         0.0   \n",
      "16   T167N        0.5664  26.0     45     0.955  1.00        32.8   \n",
      "17   Y176C        0.5603  23.0    -47     0.000  0.81        52.3   \n",
      "18   Y180H        0.1171  23.0    -78     0.000  0.47        54.0   \n",
      "19   M198I        0.1821  22.0    -85     0.001  0.00         0.0   \n",
      "20   N228S        0.1243  18.0    -78     0.007  0.26       108.4   \n",
      "21   P246L        0.6162  22.0     35     0.116  0.94        45.3   \n",
      "22   N262S        0.1021  23.0    -63     0.007  0.79        86.7   \n",
      "23   D268E        0.1080  18.0    -89     0.007  0.00        55.5   \n",
      "\n",
      "    WT_DEPTH (_)  WT_OSP  MT_RSA (%)  MT_DEPTH (_)  MT_OSP  ground truth  \n",
      "0            3.1    0.19        80.2           3.2    0.19           2.0  \n",
      "1            4.0    0.51        10.1           4.0    0.53           1.0  \n",
      "2           11.0    0.60         0.0          11.4    0.64           1.0  \n",
      "3           11.0    0.60         0.0          12.1    0.58           1.0  \n",
      "4            6.7    0.52         4.3           7.3    0.54           2.0  \n",
      "5            6.7    0.52         8.1           5.8    0.48           2.0  \n",
      "6            3.1    0.23        68.7           3.5    0.21           1.0  \n",
      "7            5.2    0.49         0.0           8.3    0.74           2.0  \n",
      "8            6.1    0.44        23.3           4.7    0.37           2.0  \n",
      "9            6.1    0.44         4.5           7.3    0.61           2.0  \n",
      "10           6.5    0.49        11.6           6.8    0.49           1.0  \n",
      "11           6.5    0.49        15.6           6.3    0.44           2.0  \n",
      "12           6.5    0.49         8.0           6.9    0.47           1.0  \n",
      "13           9.1    0.59         0.0           9.1    0.64           1.0  \n",
      "14          11.0    0.64         0.0          10.4    0.72           1.0  \n",
      "15           8.7    0.51         4.0           9.1    0.39           1.0  \n",
      "16           3.7    0.29        34.3           3.8    0.28           1.0  \n",
      "17           3.6    0.33        75.7           3.3    0.28           0.0  \n",
      "18           3.8    0.35        54.7           3.6    0.33           0.0  \n",
      "19          11.3    0.55         0.0          11.0    0.52           0.0  \n",
      "20           3.3    0.15       105.2           3.0    0.15           0.0  \n",
      "21           3.4    0.27        55.1           3.7    0.28           1.0  \n",
      "22           3.4    0.20        85.1           3.3    0.19           0.0  \n",
      "23           3.6    0.30        51.0           3.5    0.28           0.0  \n"
     ]
    }
   ],
   "source": [
    "df = df.dropna().reset_index(drop=True)\n",
    "print(df)"
   ]
  },
  {
   "cell_type": "code",
   "execution_count": 4,
   "metadata": {
    "collapsed": true
   },
   "outputs": [],
   "source": [
    "# Binarize the output\n",
    "from sklearn.preprocessing import label_binarize\n",
    "\n",
    "y = label_binarize(df['ground truth'], classes=[0, 1, 2])\n",
    "n_classes = y.shape[1]"
   ]
  },
  {
   "cell_type": "code",
   "execution_count": 5,
   "metadata": {
    "collapsed": true
   },
   "outputs": [],
   "source": [
    "X = df.iloc[:, 7:-1]\n",
    "X_MCF10A = X.assign(MCF10A=df['MCF10A score'])\n",
    "X_CADD = X.assign(CADD=df['CADD'])\n",
    "X_SNAP2 = X.assign(SNAP2=df['SNAP2'])\n",
    "X_SIFT = X.assign(SIFT=df['SIFT'])\n",
    "X_PolyPhen = X.assign(PolyPhen=df['PolyPhen'])"
   ]
  },
  {
   "cell_type": "code",
   "execution_count": 6,
   "metadata": {},
   "outputs": [
    {
     "name": "stdout",
     "output_type": "stream",
     "text": [
      "    WT_DEPTH (_)  WT_OSP  MT_RSA (%)  MT_DEPTH (_)  MT_OSP  MCF10A\n",
      "0            3.1    0.19        80.2           3.2    0.19  0.5711\n",
      "1            4.0    0.51        10.1           4.0    0.53  0.4916\n",
      "2           11.0    0.60         0.0          11.4    0.64  0.9934\n",
      "3           11.0    0.60         0.0          12.1    0.58  0.6383\n",
      "4            6.7    0.52         4.3           7.3    0.54  0.8797\n",
      "5            6.7    0.52         8.1           5.8    0.48  0.6986\n",
      "6            3.1    0.23        68.7           3.5    0.21  0.5325\n",
      "7            5.2    0.49         0.0           8.3    0.74  0.9753\n",
      "8            6.1    0.44        23.3           4.7    0.37  0.8214\n",
      "9            6.1    0.44         4.5           7.3    0.61  0.8841\n",
      "10           6.5    0.49        11.6           6.8    0.49  0.5361\n",
      "11           6.5    0.49        15.6           6.3    0.44  0.9134\n",
      "12           6.5    0.49         8.0           6.9    0.47  0.4728\n",
      "13           9.1    0.59         0.0           9.1    0.64  0.4788\n",
      "14          11.0    0.64         0.0          10.4    0.72  0.6304\n",
      "15           8.7    0.51         4.0           9.1    0.39  0.5901\n",
      "16           3.7    0.29        34.3           3.8    0.28  0.5664\n",
      "17           3.6    0.33        75.7           3.3    0.28  0.5603\n",
      "18           3.8    0.35        54.7           3.6    0.33  0.1171\n",
      "19          11.3    0.55         0.0          11.0    0.52  0.1821\n",
      "20           3.3    0.15       105.2           3.0    0.15  0.1243\n",
      "21           3.4    0.27        55.1           3.7    0.28  0.6162\n",
      "22           3.4    0.20        85.1           3.3    0.19  0.1021\n",
      "23           3.6    0.30        51.0           3.5    0.28  0.1080\n"
     ]
    }
   ],
   "source": [
    "print(X_MCF10A)"
   ]
  },
  {
   "cell_type": "markdown",
   "metadata": {},
   "source": [
    "# using simple classification"
   ]
  },
  {
   "cell_type": "code",
   "execution_count": 7,
   "metadata": {
    "collapsed": true
   },
   "outputs": [],
   "source": [
    "# Learn to predict each class against the other\n",
    "# using Support Vector Classification, kernal type is linear\n",
    "\n",
    "def classification(dset):\n",
    "    X_train, X_test, y_train, y_test = train_test_split(\n",
    "                            dset, y, test_size=0.33,\n",
    "                                            random_state=0)\n",
    "    \n",
    "    classifier = OneVsRestClassifier(svm.SVC(kernel='linear', \n",
    "                                         probability=True, random_state=0))\n",
    "    \n",
    "    y_score = classifier.fit(X_train, y_train).decision_function(\n",
    "                                                    X_test)\n",
    "    return y_score, y_test"
   ]
  },
  {
   "cell_type": "code",
   "execution_count": 8,
   "metadata": {
    "collapsed": true
   },
   "outputs": [],
   "source": [
    "# Compute micro-average ROC curve and area\n",
    "def miu_avg_roc(test, score):\n",
    "    fpr, tpr, _ = roc_curve(test.ravel(), score.ravel())\n",
    "    # .ravel() returns a contiguous flattened array\n",
    "    roc_auc = auc(fpr, tpr)\n",
    "    return fpr, tpr, roc_auc"
   ]
  },
  {
   "cell_type": "code",
   "execution_count": 9,
   "metadata": {
    "collapsed": true
   },
   "outputs": [],
   "source": [
    "def plot_roc(fpr, tpr, roc_auc, name):\n",
    "    plt.plot(fpr, tpr, label='AUC for {0} is {1:0.3f}'.format(name, roc_auc))\n",
    "    plt.plot([0,1], [0,1], color='navy', linestyle='--')\n",
    "    \n",
    "    plt.xlabel('False Positive Rate')\n",
    "    plt.ylabel('True Positive Rate')\n",
    "#    plt.xlim([0.0, 1.0])\n",
    "#    plt.ylim([0.0, 1.05])\n",
    "#    plt.title('micro-avg ROC curves')\n",
    "    plt.legend(loc=\"lower right\")"
   ]
  },
  {
   "cell_type": "code",
   "execution_count": 10,
   "metadata": {
    "collapsed": true
   },
   "outputs": [],
   "source": [
    "y_score_MCF10A, y_test = classification(X_MCF10A)\n",
    "fpr_MCF10A, tpr_MCF10A, roc_auc_MCF10A = miu_avg_roc(y_test, y_score_MCF10A)"
   ]
  },
  {
   "cell_type": "code",
   "execution_count": 11,
   "metadata": {},
   "outputs": [
    {
     "name": "stdout",
     "output_type": "stream",
     "text": [
      "[[-1.71602587 -0.82642106  0.61914366]\n",
      " [-1.66004299 -0.74496142  0.25188996]\n",
      " [ 0.29198662 -0.77767726 -2.58442396]\n",
      " [-0.24652636  0.56080859 -0.94774179]\n",
      " [ 0.96839954 -0.54886044 -3.55512062]\n",
      " [-2.34103447 -1.85145074  1.75898232]\n",
      " [-0.97689676 -0.00726119 -0.37236216]\n",
      " [-0.7421661  -1.24596644 -0.75997125]]\n",
      "\n",
      " [[0 0 1]\n",
      " [0 1 0]\n",
      " [1 0 0]\n",
      " [0 1 0]\n",
      " [1 0 0]\n",
      " [0 1 0]\n",
      " [0 1 0]\n",
      " [1 0 0]]\n"
     ]
    }
   ],
   "source": [
    "print(y_score_MCF10A)\n",
    "print('\\n', y_test)"
   ]
  },
  {
   "cell_type": "code",
   "execution_count": 12,
   "metadata": {},
   "outputs": [
    {
     "name": "stdout",
     "output_type": "stream",
     "text": [
      "[0.     0.0625 0.0625 0.125  0.125  0.3125 0.3125 0.8125 0.8125 1.    ] \n",
      " [0.    0.    0.5   0.5   0.625 0.625 0.875 0.875 1.    1.   ]\n"
     ]
    }
   ],
   "source": [
    "print(fpr_MCF10A, '\\n', tpr_MCF10A)"
   ]
  },
  {
   "cell_type": "code",
   "execution_count": 13,
   "metadata": {
    "collapsed": true
   },
   "outputs": [],
   "source": [
    "y_score_CADD, y_test = classification(X_CADD)\n",
    "fpr_CADD, tpr_CADD, roc_auc_CADD = miu_avg_roc(y_test, y_score_CADD)"
   ]
  },
  {
   "cell_type": "code",
   "execution_count": 14,
   "metadata": {
    "collapsed": true
   },
   "outputs": [],
   "source": [
    "y_score_SNAP2, y_test = classification(X_SNAP2)\n",
    "fpr_SNAP2, tpr_SNAP2, roc_auc_SNAP2 = miu_avg_roc(y_test, y_score_SNAP2)"
   ]
  },
  {
   "cell_type": "code",
   "execution_count": 15,
   "metadata": {
    "collapsed": true
   },
   "outputs": [],
   "source": [
    "y_score_SIFT, y_test = classification(X_SIFT)\n",
    "fpr_SIFT, tpr_SIFT, roc_auc_SIFT = miu_avg_roc(y_test, y_score_SIFT)"
   ]
  },
  {
   "cell_type": "code",
   "execution_count": 16,
   "metadata": {
    "collapsed": true
   },
   "outputs": [],
   "source": [
    "y_score_PolyPhen, y_test = classification(X_PolyPhen)\n",
    "fpr_PolyPhen, tpr_PolyPhen, roc_auc_PolyPhen = miu_avg_roc(y_test, y_score_PolyPhen)"
   ]
  },
  {
   "cell_type": "code",
   "execution_count": 17,
   "metadata": {
    "collapsed": true
   },
   "outputs": [],
   "source": [
    "y_score_baseline, y_test = classification(X)\n",
    "fpr_baseline, tpr_baseline, roc_auc_baseline = miu_avg_roc(y_test, y_score_baseline)"
   ]
  },
  {
   "cell_type": "code",
   "execution_count": 18,
   "metadata": {},
   "outputs": [
    {
     "data": {
      "image/png": "[encoded data removed]",
      "text/plain": [
       "<Figure size 432x288 with 1 Axes>"
      ]
     },
     "metadata": {},
     "output_type": "display_data"
    }
   ],
   "source": [
    "plt.figure()\n",
    "plot_roc(fpr_MCF10A, tpr_MCF10A, roc_auc_MCF10A, 'MCF10A')\n",
    "plot_roc(fpr_CADD, tpr_CADD, roc_auc_CADD, 'CADD')\n",
    "plot_roc(fpr_SNAP2, tpr_SNAP2, roc_auc_CADD, 'SNAP2')\n",
    "plot_roc(fpr_SIFT, tpr_SIFT, roc_auc_SIFT, 'SIFT')\n",
    "plot_roc(fpr_PolyPhen, tpr_PolyPhen, roc_auc_PolyPhen, 'PolyPhen2')\n",
    "plot_roc(fpr_baseline, tpr_baseline, roc_auc_baseline, 'baseline')\n",
    "\n",
    "mpl.rcParams['pdf.fonttype'] = 42\n",
    "plt.savefig('Output PDFs/micro-avg roc.pdf', transparent=True, dpi=200)\n",
    "\n",
    "plt.show()"
   ]
  },
  {
   "cell_type": "code",
   "execution_count": 19,
   "metadata": {
    "collapsed": true
   },
   "outputs": [],
   "source": [
    "# calculate macro-average roc\n",
    "def mac_avg_roc(y_test, y_score):\n",
    "    from scipy import interp\n",
    "    \n",
    "    # first ompute ROC curves and ROC areas for each class\n",
    "    fpr = dict()\n",
    "    tpr = dict()\n",
    "    roc_auc = dict()\n",
    "\n",
    "    for i in range(n_classes):\n",
    "        fpr[i], tpr[i], _ = roc_curve(y_test[:, i], y_score[:, i])\n",
    "        roc_auc[i] = auc(fpr[i], tpr[i])\n",
    "    \n",
    "    # aggregate all false positive rates\n",
    "    all_fpr = np.unique(np.concatenate([fpr[i] for i in range(n_classes)]))\n",
    "\n",
    "    # Then interpolate all ROC curves at these points    \n",
    "    mean_tpr = np.zeros_like(all_fpr)\n",
    "    for i in range(n_classes):\n",
    "        mean_tpr += interp(all_fpr, fpr[i], tpr[i])\n",
    "\n",
    "    # Finally average it and compute AUC        \n",
    "    mean_tpr /= n_classes\n",
    "    \n",
    "    fpr_macro = np.insert(all_fpr, 0, 0)\n",
    "    tpr_macro = np.insert(mean_tpr, 0, 0)\n",
    "    \n",
    "    return fpr_macro, tpr_macro"
   ]
  },
  {
   "cell_type": "code",
   "execution_count": 20,
   "metadata": {
    "collapsed": true
   },
   "outputs": [],
   "source": [
    "fpr_MCF10A_macro, tpr_MCF10A_macro = mac_avg_roc(y_test, y_score_MCF10A)\n",
    "roc_auc_macro_MCF10A = auc(fpr_MCF10A_macro, tpr_MCF10A_macro)"
   ]
  },
  {
   "cell_type": "code",
   "execution_count": 21,
   "metadata": {},
   "outputs": [
    {
     "name": "stdout",
     "output_type": "stream",
     "text": [
      "[0.         0.         0.14285714 0.2        0.25       1.        ] \n",
      "\n",
      "[0.         0.38888889 0.72222222 0.83333333 0.91666667 1.        ]\n"
     ]
    }
   ],
   "source": [
    "print(fpr_MCF10A_macro, '\\n')\n",
    "print(tpr_MCF10A_macro)"
   ]
  },
  {
   "cell_type": "code",
   "execution_count": 22,
   "metadata": {
    "collapsed": true
   },
   "outputs": [],
   "source": [
    "all_fpr_CADD, mean_tpr_CADD = mac_avg_roc(y_test, y_score_CADD)\n",
    "roc_auc_macro_CADD = auc(all_fpr_CADD, mean_tpr_CADD)"
   ]
  },
  {
   "cell_type": "code",
   "execution_count": 23,
   "metadata": {
    "collapsed": true
   },
   "outputs": [],
   "source": [
    "all_fpr_SNAP2, mean_tpr_SNAP2 = mac_avg_roc(y_test, y_score_SNAP2)\n",
    "roc_auc_macro_SNAP2 = auc(all_fpr_SNAP2, mean_tpr_SNAP2)"
   ]
  },
  {
   "cell_type": "code",
   "execution_count": 24,
   "metadata": {
    "collapsed": true
   },
   "outputs": [],
   "source": [
    "all_fpr_SIFT, mean_tpr_SIFT = mac_avg_roc(y_test, y_score_SIFT)\n",
    "roc_auc_macro_SIFT = auc(all_fpr_SIFT, mean_tpr_SIFT)"
   ]
  },
  {
   "cell_type": "code",
   "execution_count": 25,
   "metadata": {
    "collapsed": true
   },
   "outputs": [],
   "source": [
    "all_fpr_PolyPhen, mean_tpr_PolyPhen = mac_avg_roc(y_test, y_score_PolyPhen)\n",
    "roc_auc_macro_PolyPhen = auc(all_fpr_PolyPhen, mean_tpr_PolyPhen)"
   ]
  },
  {
   "cell_type": "code",
   "execution_count": 26,
   "metadata": {
    "collapsed": true
   },
   "outputs": [],
   "source": [
    "fpr_baseline_macro, tpr_baseline_macro = mac_avg_roc(y_test, y_score_baseline)\n",
    "roc_auc_macro_baseline = auc(fpr_baseline_macro, fpr_baseline_macro)"
   ]
  },
  {
   "cell_type": "code",
   "execution_count": 27,
   "metadata": {},
   "outputs": [
    {
     "data": {
      "image/png": "[encoded data removed]",
      "text/plain": [
       "<Figure size 432x288 with 1 Axes>"
      ]
     },
     "metadata": {},
     "output_type": "display_data"
    }
   ],
   "source": [
    "plt.figure()\n",
    "plot_roc(fpr_MCF10A_macro, tpr_MCF10A_macro, roc_auc_macro_MCF10A, 'MCF10A')\n",
    "plot_roc(all_fpr_CADD, mean_tpr_CADD, roc_auc_macro_CADD, 'CADD')\n",
    "plot_roc(all_fpr_SNAP2, mean_tpr_SNAP2, roc_auc_macro_SNAP2, 'SNAP2')\n",
    "plot_roc(all_fpr_SIFT, mean_tpr_SIFT, roc_auc_macro_SIFT, 'SIFT')\n",
    "plot_roc(all_fpr_PolyPhen, mean_tpr_PolyPhen, roc_auc_macro_PolyPhen, 'PolyPhen')\n",
    "plot_roc(fpr_baseline_macro, tpr_baseline_macro, roc_auc_macro_baseline, 'baseline')\n",
    "\n",
    "mpl.rcParams['pdf.fonttype'] = 42\n",
    "plt.savefig('Output PDFs/macro-avg roc multi.pdf', transparent=True, dpi=200)\n",
    "\n",
    "plt.show()"
   ]
  },
  {
   "cell_type": "code",
   "execution_count": 38,
   "metadata": {},
   "outputs": [
    {
     "name": "stdout",
     "output_type": "stream",
     "text": [
      "[[0 0 1]\n",
      " [0 1 0]\n",
      " [0 1 0]\n",
      " [0 1 0]\n",
      " [0 0 1]\n",
      " [0 0 1]\n",
      " [0 1 0]\n",
      " [0 0 1]\n",
      " [0 0 1]\n",
      " [0 0 1]\n",
      " [0 1 0]\n",
      " [0 0 1]\n",
      " [0 1 0]\n",
      " [0 1 0]\n",
      " [0 1 0]\n",
      " [0 1 0]\n",
      " [0 1 0]\n",
      " [1 0 0]\n",
      " [1 0 0]\n",
      " [1 0 0]\n",
      " [1 0 0]\n",
      " [0 1 0]\n",
      " [1 0 0]\n",
      " [1 0 0]]\n"
     ]
    }
   ],
   "source": [
    "print(y)"
   ]
  },
  {
   "cell_type": "markdown",
   "metadata": {},
   "source": [
    "# experimental codes"
   ]
  },
  {
   "cell_type": "code",
   "execution_count": 24,
   "metadata": {
    "collapsed": true
   },
   "outputs": [],
   "source": [
    "# either run this classifier (SVC)"
   ]
  },
  {
   "cell_type": "code",
   "execution_count": 25,
   "metadata": {
    "collapsed": true
   },
   "outputs": [],
   "source": [
    "# Learn to predict each class against the other\n",
    "# using C-Support Vector Classification, kernal type is linear\n",
    "from sklearn import svm\n",
    "\n",
    "X_train_MCF10A, X_test_MCF10A, y_train, y_test = train_test_split(\n",
    "    X_MCF10A, y, test_size=.33, random_state=0)\n",
    "\n",
    "classifier = OneVsRestClassifier(svm.SVC(kernel='linear', \n",
    "                                         probability=True, random_state=0))\n",
    "\n",
    "y_score_MCF10A = classifier.fit(X_train_MCF10A, y_train).decision_function(X_test_MCF10A)\n",
    "#y_score_CADD = classifier.decision_function(X_CADD)"
   ]
  },
  {
   "cell_type": "code",
   "execution_count": 26,
   "metadata": {
    "collapsed": true
   },
   "outputs": [],
   "source": [
    "# or run this one (Decision Tree)"
   ]
  },
  {
   "cell_type": "code",
   "execution_count": 27,
   "metadata": {
    "collapsed": true
   },
   "outputs": [],
   "source": [
    "# Learn to predict each class against the other\n",
    "# using Decision Tree classifier\n",
    "from sklearn.tree import DecisionTreeClassifier\n",
    "\n",
    "classifier = OneVsRestClassifier(DecisionTreeClassifier(random_state=0))\n",
    "\n",
    "y_score_MCF10A = classifier.fit(X_train_MCF10A, y_train).predict_proba(X_test_MCF10A)"
   ]
  },
  {
   "cell_type": "code",
   "execution_count": 28,
   "metadata": {
    "collapsed": true
   },
   "outputs": [],
   "source": [
    "# Compute micro-average ROC curve and area\n",
    "fpr_MCF10A, tpr_MCF10A, _ = roc_curve(y_test.ravel(), y_score_MCF10A.ravel())\n",
    "roc_auc_MCF10A = auc(fpr_MCF10A, tpr_MCF10A)\n",
    "\n",
    "#fpr_CADD, tpr_CADD, _ = roc_curve(y_test.ravel(), y_score_CADD.ravel())\n",
    "#roc_auc_CADD = auc(fpr_CADD, tpr_CADD)"
   ]
  },
  {
   "cell_type": "code",
   "execution_count": 29,
   "metadata": {},
   "outputs": [
    {
     "data": {
      "image/png": "[encoded data removed]",
      "text/plain": [
       "<Figure size 432x288 with 1 Axes>"
      ]
     },
     "metadata": {},
     "output_type": "display_data"
    }
   ],
   "source": [
    "fig, ax = plt.subplots()\n",
    "\n",
    "ax.plot(fpr_MCF10A, tpr_MCF10A,\n",
    "         label='AUC MCF10A (area = {0:0.2f})'.format(roc_auc_MCF10A),\n",
    "         color='deeppink')\n",
    "#ax.plot(fpr_CADD, tpr_CADD,\n",
    "#         label='AUC CADD (area = {0:0.2f})'.format(roc_auc_CADD),\n",
    "#         color='orange')\n",
    "\n",
    "ax.plot([0, 1], [0, 1], color='navy', linestyle='--')\n",
    "\n",
    "ax.set_xlabel('False Positive Rate')\n",
    "ax.set_ylabel('True Positive Rate')\n",
    "ax.set_title('micro-avg ROC curves')\n",
    "legend = ax.legend(loc=\"lower right\")\n",
    "\n",
    "plt.show()"
   ]
  },
  {
   "cell_type": "markdown",
   "metadata": {},
   "source": [
    "# exercise using the ex from scikit-learn"
   ]
  },
  {
   "cell_type": "code",
   "execution_count": 30,
   "metadata": {
    "collapsed": true,
    "scrolled": true
   },
   "outputs": [],
   "source": [
    "# shuffle and split training and test sets\n",
    "\n",
    "X_train_MCF10A, X_test_MCF10A, y_train, y_test = train_test_split(\n",
    "    X_MCF10A, y, test_size=.33)\n",
    "\n",
    "# Learn to predict each class against the other\n",
    "classifier = OneVsRestClassifier(svm.SVC(kernel='linear', probability=True,))\n",
    "\n",
    "y_score_MCF10A = classifier.fit(X_train_MCF10A, y_train).decision_function(X_test_MCF10A)"
   ]
  },
  {
   "cell_type": "code",
   "execution_count": 31,
   "metadata": {
    "collapsed": true
   },
   "outputs": [],
   "source": [
    "# Compute ROC curve and ROC area for each class\n",
    "fpr = dict()\n",
    "tpr = dict()\n",
    "roc_auc = dict()\n",
    "\n",
    "for i in range(n_classes):\n",
    "    fpr[i], tpr[i], _ = roc_curve(y_test[:, i], y_score_MCF10A[:, i])\n",
    "    roc_auc[i] = auc(fpr[i], tpr[i])"
   ]
  },
  {
   "cell_type": "code",
   "execution_count": 32,
   "metadata": {},
   "outputs": [
    {
     "name": "stdout",
     "output_type": "stream",
     "text": [
      "[0.         0.16666667 0.16666667 1.        ]\n",
      "[0.  0.  0.2 0.2 0.6 0.6 1. ]\n",
      "[0. 0. 0. 1. 1.]\n"
     ]
    }
   ],
   "source": [
    "print(fpr[0])\n",
    "print(fpr[1])\n",
    "print(fpr[2])"
   ]
  },
  {
   "cell_type": "code",
   "execution_count": 33,
   "metadata": {
    "collapsed": true
   },
   "outputs": [],
   "source": [
    "# Compute micro-average ROC curve and ROC area\n",
    "fpr[\"micro\"], tpr[\"micro\"], _ = roc_curve(y_test.ravel(), y_score_MCF10A.ravel())\n",
    "roc_auc[\"micro\"] = auc(fpr[\"micro\"], tpr[\"micro\"])"
   ]
  },
  {
   "cell_type": "code",
   "execution_count": 34,
   "metadata": {
    "collapsed": true
   },
   "outputs": [],
   "source": [
    "# Compute macro-average ROC curve and ROC area\n",
    "# First aggregate all false positive rates\n",
    "all_fpr = np.unique(np.concatenate([fpr[i] for i in range(n_classes)]))"
   ]
  },
  {
   "cell_type": "code",
   "execution_count": 35,
   "metadata": {},
   "outputs": [
    {
     "data": {
      "text/plain": [
       "array([0.        , 0.16666667, 0.2       , 0.6       , 1.        ])"
      ]
     },
     "execution_count": 35,
     "metadata": {},
     "output_type": "execute_result"
    }
   ],
   "source": [
    "all_fpr"
   ]
  },
  {
   "cell_type": "code",
   "execution_count": 36,
   "metadata": {
    "collapsed": true
   },
   "outputs": [],
   "source": [
    "# Then interpolate all ROC curves at these points\n",
    "from scipy import interp\n",
    "\n",
    "mean_tpr = np.zeros_like(all_fpr)\n",
    "for i in range(n_classes):\n",
    "    mean_tpr += interp(all_fpr, fpr[i], tpr[i]) #'+=' is i_add. a=2. a+=3 returns 5.\n",
    "\n",
    "# Finally average it and compute AUC\n",
    "mean_tpr /= n_classes"
   ]
  },
  {
   "cell_type": "code",
   "execution_count": 37,
   "metadata": {},
   "outputs": [
    {
     "name": "stdout",
     "output_type": "stream",
     "text": [
      "all_fpr:  [0.         0.16666667 0.2        0.6        1.        ] \n",
      "\n",
      "mean_tpr [0.33333333 0.66666667 0.77777778 0.88888889 1.        ]\n"
     ]
    }
   ],
   "source": [
    "type(mean_tpr)\n",
    "print('all_fpr: ', all_fpr, '\\n')\n",
    "print('mean_tpr', mean_tpr)"
   ]
  },
  {
   "cell_type": "code",
   "execution_count": 38,
   "metadata": {
    "collapsed": true
   },
   "outputs": [],
   "source": [
    "fpr[\"macro\"] = np.insert(all_fpr, 0, 0)\n",
    "tpr[\"macro\"] = np.insert(mean_tpr, 0, 0)\n",
    "roc_auc[\"macro\"] = auc(fpr[\"macro\"], tpr[\"macro\"])"
   ]
  },
  {
   "cell_type": "code",
   "execution_count": 41,
   "metadata": {},
   "outputs": [
    {
     "data": {
      "image/png": "[encoded data removed]",
      "text/plain": [
       "<Figure size 432x288 with 1 Axes>"
      ]
     },
     "metadata": {},
     "output_type": "display_data"
    }
   ],
   "source": [
    "# plot all the classes\n",
    "fig, ax = plt.subplots()\n",
    "\n",
    "ax.plot(fpr[0], tpr[0],\n",
    "         label='not pathogenic (area = {0:0.3f}).'.format(roc_auc[0]))\n",
    "ax.plot(fpr[1], tpr[1],\n",
    "         label='likely pathogenic (area = {0:0.3f}).'.format(roc_auc[1]))\n",
    "ax.plot(fpr[2], tpr[2],\n",
    "         label='pathogenic (area = {0:0.3f}).'.format(roc_auc[2]))\n",
    "ax.plot(fpr[\"micro\"], tpr[\"micro\"],\n",
    "         label='micro-average (area = {0:0.2f})'.format(roc_auc[\"micro\"]),\n",
    "         color='deeppink', linestyle=':')\n",
    "ax.plot(fpr[\"macro\"], tpr[\"macro\"],\n",
    "         label='macro-average (area = {0:0.2f})'.format(roc_auc[\"macro\"]),\n",
    "         color='navy', linestyle=':')\n",
    "\n",
    "ax.plot([0, 1], [0, 1], color='navy', linestyle='--')\n",
    "\n",
    "ax.set_xlabel('False Positive Rate')\n",
    "ax.set_ylabel('True Positive Rate')\n",
    "ax.set_title('ROC curves for MCF10A')\n",
    "legend = ax.legend(loc=\"lower right\")\n",
    "\n",
    "plt.show()"
   ]
  },
  {
   "cell_type": "markdown",
   "metadata": {},
   "source": [
    "# trying cross-validation"
   ]
  },
  {
   "cell_type": "code",
   "execution_count": 40,
   "metadata": {
    "collapsed": true
   },
   "outputs": [],
   "source": [
    "from sklearn.model_selection import StratifiedKFold\n",
    "\n",
    "# Run classifier with cross-validation and plot ROC curves\n",
    "cv = StratifiedKFold(n_splits=6)\n",
    "classifier = svm.SVC(kernel='linear', probability=True,\n",
    "                     random_state=0)"
   ]
  }
 ],
 "metadata": {
  "kernelspec": {
   "display_name": "Python 3",
   "language": "python",
   "name": "python3"
  },
  "language_info": {
   "codemirror_mode": {
    "name": "ipython",
    "version": 3
   },
   "file_extension": ".py",
   "mimetype": "text/x-python",
   "name": "python",
   "nbconvert_exporter": "python",
   "pygments_lexer": "ipython3",
   "version": "3.6.8"
  }
 },
 "nbformat": 4,
 "nbformat_minor": 2
}
