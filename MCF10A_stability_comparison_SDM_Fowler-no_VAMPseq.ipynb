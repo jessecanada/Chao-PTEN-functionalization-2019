{
 "cells": [
  {
   "cell_type": "code",
   "execution_count": 1,
   "metadata": {
    "collapsed": true
   },
   "outputs": [],
   "source": [
    "import numpy as np\n",
    "import pandas as pd\n",
    "import matplotlib.pyplot as plt\n",
    "import matplotlib as mpl"
   ]
  },
  {
   "cell_type": "code",
   "execution_count": 2,
   "metadata": {
    "collapsed": true
   },
   "outputs": [],
   "source": [
    "df1 = pd.read_csv('Datasets/PTEN_MCF10A_stability.csv', index_col=False)\n",
    "df2 = pd.read_csv('Web Datasets/PTEN_SDM.csv', index_col=False)\n",
    "df3 = pd.read_csv('Datasets/PTEN_MCF10A.csv', index_col=False)"
   ]
  },
  {
   "cell_type": "code",
   "execution_count": 3,
   "metadata": {},
   "outputs": [
    {
     "name": "stdout",
     "output_type": "stream",
     "text": [
      "  variant  stability  Std. Error\n",
      "0     K6E     0.6576     0.08227\n",
      "1     K6I     0.9293     0.25850\n",
      "2    R15S     1.0280     0.25560\n",
      "3    M35V     1.1120     0.07086\n",
      "4    P38H     0.8563     0.11500 \n",
      "\n",
      "  variant Mutation WT_SSE  WT_RSA (%)  WT_DEPTH (_)  WT_OSP  WT_SS  WT_SN  \\\n",
      "0     K6E      NaN    NaN         NaN           NaN     NaN    NaN    NaN   \n",
      "1     K6I      NaN    NaN         NaN           NaN     NaN    NaN    NaN   \n",
      "2    R15S     R15S      p        53.3           3.6    0.32  False  False   \n",
      "3    M35V     M35V      E         0.0          10.8    0.53  False  False   \n",
      "4    P38H     P38H      t         0.0          10.5    0.60  False  False   \n",
      "\n",
      "   WT_SO MT_SSE  MT_RSA (%)  MT_DEPTH (_)  MT_OSP  MT_SS  MT_SN  MT_SO  \\\n",
      "0    NaN    NaN         NaN           NaN     NaN    NaN    NaN    NaN   \n",
      "1    NaN    NaN         NaN           NaN     NaN    NaN    NaN    NaN   \n",
      "2   True      b        52.3           3.6    0.37  False  False  False   \n",
      "3  False      E         2.7          10.3    0.50  False  False  False   \n",
      "4  False      t         0.0          11.3    0.62   True  False  False   \n",
      "\n",
      "   Predicted __G              Outcome  \n",
      "0            NaN                  NaN  \n",
      "1            NaN                  NaN  \n",
      "2          -0.92    Reduced stability  \n",
      "3           0.63  Increased stability  \n",
      "4           0.81  Increased stability   \n",
      "\n",
      "  variant  MCF10A score  std_dev  std_err\n",
      "0     K6E        0.3311  0.06073  0.03506\n",
      "1     K6I        0.4544  0.04539  0.02621\n",
      "2    R15S        0.3870  0.05989  0.03458\n",
      "3    M35V        0.3606  0.08549  0.04936\n",
      "4    P38H        0.3521  0.10320  0.05958\n"
     ]
    }
   ],
   "source": [
    "print(df1.head(), '\\n')\n",
    "print(df2.head(), '\\n')\n",
    "print(df3.head())"
   ]
  },
  {
   "cell_type": "code",
   "execution_count": 18,
   "metadata": {},
   "outputs": [
    {
     "data": {
      "image/png": "[encoded data removed]",
      "text/plain": [
       "<Figure size 360x360 with 1 Axes>"
      ]
     },
     "metadata": {},
     "output_type": "display_data"
    }
   ],
   "source": [
    "fig = plt.figure(figsize=(5,5))\n",
    "ax = fig.add_subplot(111)\n",
    "\n",
    "plt.hist(df1['stability'], density=True, bins=4, rwidth=0.90)\n",
    "ax.set_xlim(ax.get_xlim()[::-1])\n",
    "\n",
    "# output fig\n",
    "#mpl.rcParams['pdf.fonttype'] = 42\n",
    "#plt.savefig('Output PDFs/MCF10A_stability_hist.pdf', transparent=True, dpi=200)\n",
    "\n",
    "plt.show()"
   ]
  },
  {
   "cell_type": "code",
   "execution_count": 19,
   "metadata": {
    "collapsed": true
   },
   "outputs": [],
   "source": [
    "df_MCF10A = df3.merge(df1, on='variant')\n",
    "df_MCF10A = df_MCF10A.dropna().reset_index(drop=True)"
   ]
  },
  {
   "cell_type": "code",
   "execution_count": 20,
   "metadata": {},
   "outputs": [
    {
     "data": {
      "image/png": "[encoded data removed]",
      "text/plain": [
       "<Figure size 432x288 with 1 Axes>"
      ]
     },
     "metadata": {},
     "output_type": "display_data"
    }
   ],
   "source": [
    "fig, ax = plt.subplots()\n",
    "\n",
    "x = df_MCF10A['stability']\n",
    "y = df_MCF10A['MCF10A score']\n",
    "\n",
    "ax.scatter(x, y, alpha=0.6, s=60, c='b')\n",
    "for i in range(len(df_MCF10A)): #plot each point + it's index as text above\n",
    "    ax.text(x[i], y[i],  '%s' % (str(df_MCF10A.iloc[i,0])), size=6, color='k')\n",
    "    \n",
    "ax.set_xlabel('MCF10A stability')\n",
    "ax.set_ylabel('MCF10A functional score')\n",
    "ax.set_title('functional score vs stability')\n",
    "\n",
    "mpl.rcParams['pdf.fonttype'] = 42\n",
    "plt.savefig('Output PDFs/MCF10A score vs stability.pdf', transparent=True, dpi=200)\n",
    "\n",
    "plt.show()"
   ]
  },
  {
   "cell_type": "code",
   "execution_count": 21,
   "metadata": {},
   "outputs": [
    {
     "name": "stdout",
     "output_type": "stream",
     "text": [
      "  variant Mutation WT_SSE  WT_RSA (%)  WT_DEPTH (_)  WT_OSP  WT_SS  WT_SN  \\\n",
      "0     K6E      NaN    NaN         NaN           NaN     NaN    NaN    NaN   \n",
      "1     K6I      NaN    NaN         NaN           NaN     NaN    NaN    NaN   \n",
      "2    R15S     R15S      p        53.3           3.6    0.32  False  False   \n",
      "3    M35V     M35V      E         0.0          10.8    0.53  False  False   \n",
      "4    P38H     P38H      t         0.0          10.5    0.60  False  False   \n",
      "\n",
      "   WT_SO MT_SSE  MT_RSA (%)  MT_DEPTH (_)  MT_OSP  MT_SS  MT_SN  MT_SO  \\\n",
      "0    NaN    NaN         NaN           NaN     NaN    NaN    NaN    NaN   \n",
      "1    NaN    NaN         NaN           NaN     NaN    NaN    NaN    NaN   \n",
      "2   True      b        52.3           3.6    0.37  False  False  False   \n",
      "3  False      E         2.7          10.3    0.50  False  False  False   \n",
      "4  False      t         0.0          11.3    0.62   True  False  False   \n",
      "\n",
      "   Predicted __G              Outcome  stability  Std. Error  \n",
      "0            NaN                  NaN     0.6576     0.08227  \n",
      "1            NaN                  NaN     0.9293     0.25850  \n",
      "2          -0.92    Reduced stability     1.0280     0.25560  \n",
      "3           0.63  Increased stability     1.1120     0.07086  \n",
      "4           0.81  Increased stability     0.8563     0.11500  \n"
     ]
    }
   ],
   "source": [
    "# merging dfs\n",
    "\n",
    "df_combined = df2.merge(df1, on='variant')\n",
    "print(df_combined.head())"
   ]
  },
  {
   "cell_type": "code",
   "execution_count": 24,
   "metadata": {
    "scrolled": true
   },
   "outputs": [
    {
     "name": "stdout",
     "output_type": "stream",
     "text": [
      "   variant       SDM  stability\n",
      "0      K6E       NaN   0.537739\n",
      "1      K6I       NaN   0.772323\n",
      "2     R15S  0.485759   0.857540\n",
      "3     M35V  0.731013   0.930065\n",
      "4     P38H  0.759494   0.709295\n",
      "5     G44D  0.148734   0.916251\n",
      "6     A79T  0.613924   0.673982\n",
      "7     D92N  0.604430   0.788209\n",
      "8     H93Q  0.607595   0.392257\n",
      "9     H93R  0.609177   0.652570\n",
      "10   I101F  0.482595   0.629949\n",
      "11   I101T  0.137658   0.029580\n",
      "12   N117S  0.634494   0.934382\n",
      "13   H123Y  0.613924   0.583240\n",
      "14   H123Q  0.512658   0.633576\n",
      "15   C124S  0.403481   0.800470\n",
      "16   C124R  0.343354   0.495519\n",
      "17   A126D  0.628165   0.893803\n",
      "18   G127R  0.180380   0.657233\n",
      "19   G129R  0.827532   0.323876\n",
      "20   G129E  0.939873   0.821796\n",
      "21   R130L  0.443038   0.848043\n",
      "22   R130P       NaN   0.860994\n",
      "23   R130Q  0.318038   0.740377\n",
      "24   T131I  0.781646   0.632108\n",
      "25   G132D  0.216772   0.739823\n",
      "26   V133I  0.613924   0.612250\n",
      "27   M134I  0.585443   0.604393\n",
      "28   I135V  0.226266   0.919704\n",
      "29   Y138L  0.674051   0.775259\n",
      "30   R142W  0.656646   0.686847\n",
      "31   Y155C  0.424051   0.154478\n",
      "32   T167N  0.634494   0.641519\n",
      "33   Q171E  0.579114   0.570030\n",
      "34   R173H  0.397152   0.228040\n",
      "35   Y176C  0.587025   0.892076\n",
      "36   Y180H  0.577532   1.000000\n",
      "37   M198I  0.765823   0.884305\n",
      "38   T232A  0.681962   0.779058\n",
      "39   P246L  1.000000   0.239695\n",
      "40   N262S  0.688291   0.676832\n",
      "41   D268E  0.814873   0.718102\n",
      "42   D326N  0.594937   0.385782\n",
      "43   K342N  0.542722   0.992229\n",
      "44   P354Q       NaN   0.841136\n",
      "45   T382S       NaN   0.000000\n"
     ]
    }
   ],
   "source": [
    "# method 1 - MinMax scaling of data, ignore NaN values\n",
    "data = df_combined.loc[:, ['Predicted __G', 'stability']]\n",
    "for i in range(len(data.columns)):\n",
    "    s = data.iloc[:,i]\n",
    "    scaled = s.sub(s.min()).div((s.max() - s.min()))\n",
    "    data[str(data.columns[i])] = scaled\n",
    "\n",
    "data.iloc[:,0].replace(0, np.nan, inplace=True) # replace 0 with NaN\n",
    "data.columns = ['SDM', 'stability']\n",
    "data.insert(0, 'variant', df_combined['variant'])\n",
    "\n",
    "# method 2 - use MinMaxScaler from sklearn, cannot process NaNs    \n",
    "#from sklearn.preprocessing import MinMaxScaler\n",
    "\n",
    "# remove NaN entries\n",
    "#df_combined = df_combined.dropna().reset_index(drop=True)\n",
    "\n",
    "#data = df_combined.loc[:, ['Predicted __G', 'stability']]\n",
    "#data = pd.DataFrame(MinMaxScaler().fit_transform(data))\n",
    "#data.columns = ['SDM', 'stability']\n",
    "#data.insert(0, 'variant', df_combined['variant'])\n",
    "print(data)"
   ]
  },
  {
   "cell_type": "code",
   "execution_count": 25,
   "metadata": {},
   "outputs": [
    {
     "data": {
      "image/png": "[encoded data removed]",
      "text/plain": [
       "<Figure size 432x288 with 1 Axes>"
      ]
     },
     "metadata": {},
     "output_type": "display_data"
    }
   ],
   "source": [
    "# plot scaled SDM vs MCF10A\n",
    "\n",
    "fig = plt.figure()\n",
    "ax = fig.add_subplot(111)\n",
    "\n",
    "x = data['stability']\n",
    "y = data['SDM']\n",
    "\n",
    "ax.scatter(x, y, alpha=0.6, s=60, c='b')\n",
    "        \n",
    "ax.set_xlabel('MCF10A stability')\n",
    "ax.set_ylabel('SDM predictions')\n",
    "ax.set_title('SDM vs western stability')\n",
    "\n",
    "plt.show()"
   ]
  },
  {
   "cell_type": "code",
   "execution_count": 12,
   "metadata": {
    "collapsed": true
   },
   "outputs": [],
   "source": [
    "# do Pearson correlation\n",
    "\n",
    "def pearson(data1, data2):\n",
    "    from scipy.stats import pearsonr\n",
    "    corr = pearsonr(data1, data2)[0]\n",
    "    p_val = pearsonr(data1, data2)[1]\n",
    "    print('Correlation: {0:.4f}'.format(corr))\n",
    "    print('Two Tailed P Value: {0:.4f}'.format(p_val))"
   ]
  },
  {
   "cell_type": "code",
   "execution_count": 11,
   "metadata": {},
   "outputs": [
    {
     "name": "stdout",
     "output_type": "stream",
     "text": [
      "Pearson correlation, SDM vs MCF10A:\n",
      "Correlation: 0.0206\n",
      "Two Tailed P Value: 0.8970\n"
     ]
    }
   ],
   "source": [
    "print(\"Pearson correlation, SDM vs MCF10A:\")\n",
    "pearson(data['SDM'], data['stability'])"
   ]
  },
  {
   "cell_type": "code",
   "execution_count": 73,
   "metadata": {},
   "outputs": [
    {
     "name": "stdout",
     "output_type": "stream",
     "text": [
      "                K6E       K6I      R15S      M35V      P38H      G44D  \\\n",
      "SDM             NaN       NaN  0.485759  0.731013  0.759494  0.148734   \n",
      "stability  0.537739  0.772323  0.857540  0.930065  0.709295  0.916251   \n",
      "\n",
      "               A79T      D92N      H93Q      H93R  ...     Y180H     M198I  \\\n",
      "SDM        0.613924  0.604430  0.607595  0.609177  ...  0.577532  0.765823   \n",
      "stability  0.673982  0.788209  0.392257  0.652570  ...  1.000000  0.884305   \n",
      "\n",
      "              T232A     P246L     N262S     D268E     D326N     K342N  \\\n",
      "SDM        0.681962  1.000000  0.688291  0.814873  0.594937  0.542722   \n",
      "stability  0.779058  0.239695  0.676832  0.718102  0.385782  0.992229   \n",
      "\n",
      "              P354Q  T382S  \n",
      "SDM             NaN    NaN  \n",
      "stability  0.841136    NaN  \n",
      "\n",
      "[2 rows x 46 columns]\n"
     ]
    }
   ],
   "source": [
    "# transposing dframe, prepare for plotting\n",
    "data_T = data[['SDM', 'stability']].transpose()\n",
    "data_T.columns = data['variant'].tolist()\n",
    "\n",
    "print(data_T.head())"
   ]
  },
  {
   "cell_type": "code",
   "execution_count": 49,
   "metadata": {},
   "outputs": [
    {
     "data": {
      "text/plain": [
       "Index(['SDM', 'stability'], dtype='object')"
      ]
     },
     "execution_count": 49,
     "metadata": {},
     "output_type": "execute_result"
    }
   ],
   "source": [
    "data_T.index"
   ]
  },
  {
   "cell_type": "code",
   "execution_count": 64,
   "metadata": {},
   "outputs": [
    {
     "data": {
      "text/plain": [
       "(46, 3)"
      ]
     },
     "execution_count": 64,
     "metadata": {},
     "output_type": "execute_result"
    }
   ],
   "source": [
    "data.shape"
   ]
  },
  {
   "cell_type": "code",
   "execution_count": 79,
   "metadata": {
    "collapsed": true
   },
   "outputs": [],
   "source": [
    "# now plot heatmap\n",
    "\n",
    "# plot the data\n",
    "fig, ax = plt.subplots(figsize=(7,5), dpi=200)\n",
    "im = ax.imshow(data_T, cmap='viridis_r')\n",
    "    \n",
    "# set the ticks...\n",
    "ax.set_xticks(np.arange(len(data_T.columns)))\n",
    "ax.set_yticks(np.arange(2))\n",
    "    \n",
    "# label the ticks\n",
    "ax.set_xticklabels(data_T.columns, fontsize=6, rotation=90)\n",
    "ax.set_yticklabels(list(data_T.index), fontsize=6)\n",
    " \n",
    "# set white grids\n",
    "ax.set_xticks(np.arange(data.shape[0]+1)-0.5, minor=True)\n",
    "#ax.set_yticks(np.arange(data.shape[1])-0.5, minor=True)\n",
    "ax.grid(which=\"minor\", color=\"w\", linestyle='-', linewidth=0.4)\n",
    "ax.tick_params(which=\"minor\", bottom=False, left=False)\n",
    "    \n",
    "# set the title\n",
    "ax.set_title(\"MCF10A stability western vs SDM\")\n",
    "\n",
    "# add colorbar\n",
    "cbar = ax.figure.colorbar(im, cax = fig.add_axes([0.92, 0.45, 0.01, 0.1]))\n",
    "cbar.ax.tick_params(labelsize=6)"
   ]
  },
  {
   "cell_type": "code",
   "execution_count": 80,
   "metadata": {},
   "outputs": [
    {
     "data": {
      "image/png": "[encoded data removed]",
      "text/plain": [
       "<Figure size 1400x1000 with 2 Axes>"
      ]
     },
     "metadata": {},
     "output_type": "display_data"
    }
   ],
   "source": [
    "mpl.rcParams['pdf.fonttype'] = 42\n",
    "plt.savefig('Output PDFs/SDM vs MCF10A stability.pdf', transparent=True)\n",
    "\n",
    "plt.show()"
   ]
  },
  {
   "cell_type": "code",
   "execution_count": 16,
   "metadata": {
    "collapsed": true
   },
   "outputs": [],
   "source": [
    "def scatter_plotting(x, y, x_label, y_label, df, title, ax=None, **kwargs):\n",
    "    fig = plt.figure(figsize=(8,6))\n",
    "    ax = fig.add_subplot(111)\n",
    "    \n",
    "    for i in range(len(df)): #plot each point + it's index as text above\n",
    "        ax.text(x[i], y[i],  '%s' % (str(df.iloc[i,0])), size=6, color='k')\n",
    "    \n",
    "    ax.scatter(x, y, alpha=0.6, s=60, c='b', cmap='rainbow')\n",
    "    ax.set_xlabel(x_label)\n",
    "    ax.set_ylabel(y_label)\n",
    "    ax.set_title(title)"
   ]
  },
  {
   "cell_type": "code",
   "execution_count": 17,
   "metadata": {},
   "outputs": [
    {
     "data": {
      "image/png": "[encoded data removed]",
      "text/plain": [
       "<Figure size 576x432 with 1 Axes>"
      ]
     },
     "metadata": {},
     "output_type": "display_data"
    }
   ],
   "source": [
    "scatter_plotting(df_combined['WT_RSA (%)'], df_combined['Predicted __G'],\n",
    "                'WT solvent accessibility', 'delta delta G', df_combined,\n",
    "                 'solvent acc vs delta delta G')\n",
    "\n",
    "plt.show()"
   ]
  },
  {
   "cell_type": "code",
   "execution_count": 18,
   "metadata": {},
   "outputs": [
    {
     "data": {
      "image/png": "[encoded data removed]",
      "text/plain": [
       "<Figure size 576x432 with 1 Axes>"
      ]
     },
     "metadata": {},
     "output_type": "display_data"
    }
   ],
   "source": [
    "scatter_plotting(df_combined['WT_DEPTH (_)'], df_combined['Predicted __G'],\n",
    "                'WT depth', 'delta delta G', df_combined,\n",
    "                 'depth vs delta delta G')\n",
    "\n",
    "plt.show()"
   ]
  },
  {
   "cell_type": "code",
   "execution_count": 19,
   "metadata": {},
   "outputs": [
    {
     "data": {
      "image/png": "[encoded data removed]",
      "text/plain": [
       "<Figure size 576x432 with 1 Axes>"
      ]
     },
     "metadata": {},
     "output_type": "display_data"
    }
   ],
   "source": [
    "scatter_plotting(df_combined['MT_RSA (%)'], df_combined['Predicted __G'],\n",
    "                'MT solvent accessibility', 'delta delta G', df_combined,\n",
    "                 'MT solvent acc vs delta delta G')\n",
    "\n",
    "plt.show()"
   ]
  },
  {
   "cell_type": "markdown",
   "metadata": {},
   "source": [
    "# merging in HEK cell data"
   ]
  },
  {
   "cell_type": "code",
   "execution_count": 4,
   "metadata": {},
   "outputs": [
    {
     "name": "stdout",
     "output_type": "stream",
     "text": [
      "  variant   i160914   i161110   i161118   i161129      mean\n",
      "0    A79T  1.379716  0.965915  0.929327  1.481790  1.189187\n",
      "1   C124S  1.289591  1.241250  1.060428  1.774735  1.341501\n",
      "2   D268E  1.546750  0.974952  1.100685  1.766940  1.347332\n",
      "3   P354Q  1.222541  0.979773  0.850247  0.975194  1.006938\n",
      "4   G129R  0.339862  0.310451  0.165289  0.086631  0.225558\n"
     ]
    }
   ],
   "source": [
    "df_HEK = pd.read_csv('Datasets/GFP-PTEN_scores_for_Chris_Loewen.csv', index_col=False)\n",
    "\n",
    "print(df_HEK.head())"
   ]
  },
  {
   "cell_type": "code",
   "execution_count": 6,
   "metadata": {},
   "outputs": [
    {
     "name": "stdout",
     "output_type": "stream",
     "text": [
      "   variant   i160914   i161110   i161118   i161129  HEK_mean   HEK_sem\n",
      "0     A79T  1.379716  0.965915  0.929327  1.481790  1.189187  0.109384\n",
      "1    C124S  1.289591  1.241250  1.060428  1.774735  1.341501  0.118203\n",
      "2    D268E  1.546750  0.974952  1.100685  1.766940  1.347332  0.144108\n",
      "3    P354Q  1.222541  0.979773  0.850247  0.975194  1.006938  0.060325\n",
      "4    G129R  0.339862  0.310451  0.165289  0.086631  0.225558  0.046479\n",
      "5    G132D  0.190598  0.254016  0.115624  0.066045  0.156570  0.032035\n",
      "6    I101T  0.070208  0.166608  0.077501  0.060275  0.093648  0.019036\n",
      "7     P38H  0.409978  0.707159  0.588029  0.693435  0.599650  0.053134\n",
      "8    T167N  0.807394  0.792811  0.548688  0.399496  0.637097  0.076654\n",
      "9    Y176C  0.688925  0.880970  0.903159  0.627171  0.775056  0.053346\n",
      "10   Y180H  0.876585  1.007871  0.701370  0.462821  0.762162  0.091314\n"
     ]
    }
   ],
   "source": [
    "df_HEK['HEK_sem'] = df_HEK.iloc[:, 1:-1].sem(axis=1)\n",
    "df_HEK.rename(index=str, columns={'mean':'HEK_mean'}, inplace=True)\n",
    "print(df_HEK)"
   ]
  },
  {
   "cell_type": "code",
   "execution_count": 10,
   "metadata": {},
   "outputs": [
    {
     "name": "stdout",
     "output_type": "stream",
     "text": [
      "   variant   western  western_sem  HEK_mean   HEK_sem\n",
      "0      K6E  0.657600      0.08227       NaN       NaN\n",
      "1      K6I  0.929300      0.25850       NaN       NaN\n",
      "2     R15S  1.028000      0.25560       NaN       NaN\n",
      "3     M35V  1.112000      0.07086       NaN       NaN\n",
      "4     P38H  0.856300      0.11500  0.599650  0.053134\n",
      "5     G44D  1.096000      0.16480       NaN       NaN\n",
      "6     A79T  0.815400      0.21640  1.189187  0.109384\n",
      "7     D92N  0.947700      0.21650       NaN       NaN\n",
      "8     H93Q  0.489100      0.15290       NaN       NaN\n",
      "9     H93R  0.790600      0.09647       NaN       NaN\n",
      "10   I101F  0.764400      0.24950       NaN       NaN\n",
      "11   I101T  0.069040      0.05710  0.093648  0.019036\n",
      "12   N117S  1.117000      0.03691       NaN       NaN\n",
      "13   H123Y  0.710300      0.31080       NaN       NaN\n",
      "14   H123Q  0.768600      0.18090       NaN       NaN\n",
      "15   C124S  0.961900      0.13030  1.341501  0.118203\n",
      "16   C124R  0.608700      0.12630       NaN       NaN\n",
      "17   A126D  1.070000      0.28850       NaN       NaN\n",
      "18   G127R  0.796000      0.07587       NaN       NaN\n",
      "19   G129R  0.409900      0.13030  0.225558  0.046479\n",
      "20   G129E  0.986600      0.07512       NaN       NaN\n",
      "21   R130L  1.017000      0.06264       NaN       NaN\n",
      "22   R130P  1.032000      0.07322       NaN       NaN\n",
      "23   R130Q  0.892300      0.15220       NaN       NaN\n",
      "24   T131I  0.766900      0.12970       NaN       NaN\n",
      "25   G132D  0.891657      0.19449  0.156570  0.032035\n",
      "26   V133I  0.743900      0.07927       NaN       NaN\n",
      "27   M134I  0.734800      0.05757       NaN       NaN\n",
      "28   I135V  1.100000      0.19510       NaN       NaN\n",
      "29   Y138L  0.932700      0.26830       NaN       NaN\n",
      "30   R142W  0.830300      0.11260       NaN       NaN\n",
      "31   Y155C  0.213700      0.06918       NaN       NaN\n",
      "32   T167N  0.777800      0.18820  0.637097  0.076654\n",
      "33   Q171E  0.695000      0.23270       NaN       NaN\n",
      "34   R173H  0.298900      0.05065       NaN       NaN\n",
      "35   Y176C  1.068000      0.11710  0.775056  0.053346\n",
      "36   Y180H  1.193000      0.15930  0.762162  0.091314\n",
      "37   M198I  1.059000      0.04662       NaN       NaN\n",
      "38   N262S  0.818700      0.03919       NaN       NaN\n",
      "39   T232A  0.937100      0.13780       NaN       NaN\n",
      "40   P246L  0.312400      0.15090       NaN       NaN\n",
      "41   D268E  0.866500      0.24410  1.347332  0.144108\n",
      "42   D326N  0.481600      0.09949       NaN       NaN\n",
      "43   K342N  1.184000      0.27370       NaN       NaN\n",
      "44   P354Q  1.009000      0.17890  1.006938  0.060325\n",
      "45   T382S  0.034780      0.02348       NaN       NaN\n"
     ]
    }
   ],
   "source": [
    "df_stability_all = df1.merge(df_HEK[['variant','HEK_mean','HEK_sem']], \n",
    "                             on='variant', how='left')\n",
    "df_stability_all.rename(index=str, \n",
    "                        columns={'stability':'western', 'Std. Error':'western_sem'},\n",
    "                       inplace=True)\n",
    "print(df_stability_all)"
   ]
  },
  {
   "cell_type": "code",
   "execution_count": 46,
   "metadata": {
    "collapsed": true
   },
   "outputs": [],
   "source": [
    "df_stability_all.to_csv('Output Datasets/Fowler stability.csv', index=False)"
   ]
  },
  {
   "cell_type": "markdown",
   "metadata": {},
   "source": [
    "# Pearson's R"
   ]
  },
  {
   "cell_type": "code",
   "execution_count": 13,
   "metadata": {},
   "outputs": [
    {
     "name": "stdout",
     "output_type": "stream",
     "text": [
      "Pearson correlation, HEK vs MCF10A:\n",
      "Correlation: 0.5809\n",
      "Two Tailed P Value: 0.0609\n"
     ]
    }
   ],
   "source": [
    "HEK = df_stability_all['HEK_mean'].dropna()\n",
    "western = df_stability_all.dropna(subset=['HEK_mean'])['western']\n",
    "print(\"Pearson correlation, HEK vs MCF10A:\")\n",
    "pearson(HEK, western)"
   ]
  },
  {
   "cell_type": "markdown",
   "metadata": {},
   "source": [
    "# now start plotting"
   ]
  },
  {
   "cell_type": "code",
   "execution_count": 17,
   "metadata": {
    "collapsed": true
   },
   "outputs": [],
   "source": [
    "df_stability_all.dropna(inplace=True)"
   ]
  },
  {
   "cell_type": "code",
   "execution_count": 18,
   "metadata": {},
   "outputs": [
    {
     "data": {
      "image/png": "[encoded data removed]",
      "text/plain": [
       "<Figure size 432x288 with 1 Axes>"
      ]
     },
     "metadata": {},
     "output_type": "display_data"
    }
   ],
   "source": [
    "# matplotlib.pyplot.bar(x, height, width=0.8, bottom=None, *, align='center', data=None, **kwargs)\n",
    "fig, ax = plt.subplots()\n",
    "index = np.arange(len(df_stability_all))\n",
    "bar_width =0.35\n",
    "\n",
    "stab_1 = ax.bar(index, df_stability_all['HEK_mean'], bar_width, \n",
    "                yerr=df_stability_all['HEK_sem'], label='HEK stability',\n",
    "                color='tab:blue', alpha=0.7)\n",
    "stab_2 = ax.bar(index+bar_width, df_stability_all['western'], bar_width, \n",
    "                yerr=df_stability_all['western_sem'], label='MCF10A stability',\n",
    "                color='tab:orange', alpha=0.7)\n",
    "\n",
    "ax.set_xticks(index + bar_width / 2)\n",
    "ax.set_xticklabels(df_stability_all['variant'], rotation=90)\n",
    "ax.legend(loc='upper center')\n",
    "\n",
    "#mpl.rcParams['pdf.fonttype'] = 42\n",
    "#plt.savefig('Output PDFs/HEK_vs_MCF10A_stability.pdf', transparent=True)\n",
    "\n",
    "plt.show()"
   ]
  },
  {
   "cell_type": "code",
   "execution_count": 34,
   "metadata": {},
   "outputs": [
    {
     "name": "stdout",
     "output_type": "stream",
     "text": [
      "Pearson correlation for individual stability vs western is:\n",
      "Correlation: 0.6832\n",
      "Two Tailed P Value: 0.0205\n"
     ]
    }
   ],
   "source": [
    "print(\"Pearson correlation for individual stability vs western is:\")\n",
    "pearson(fowler_in['individual_stability'], fowler_in['stability'])"
   ]
  },
  {
   "cell_type": "code",
   "execution_count": 84,
   "metadata": {},
   "outputs": [
    {
     "name": "stdout",
     "output_type": "stream",
     "text": [
      "   variant  stability  Std. Error  high_throughput_stability  \\\n",
      "0      K6E     0.6576     0.08227                   1.392637   \n",
      "1     R15S     1.0280     0.25560                   1.248020   \n",
      "2     P38H     0.8563     0.11500                   0.908655   \n",
      "3     G44D     1.0960     0.16480                   1.109932   \n",
      "4     A79T     0.8154     0.21640                   1.216238   \n",
      "5     H93R     0.7906     0.09647                   0.927602   \n",
      "6    N117S     1.1170     0.03691                   1.200726   \n",
      "7    C124S     0.9619     0.13030                   1.469114   \n",
      "8    G129R     0.4099     0.13030                   0.371559   \n",
      "9    G129E     0.9866     0.07512                   0.739353   \n",
      "10   R130L     1.0170     0.06264                   1.250759   \n",
      "11   M134I     0.7348     0.05757                   0.733609   \n",
      "12   Q171E     0.6950     0.23270                   0.670218   \n",
      "13   N262S     0.8187     0.03919                   0.856913   \n",
      "14   P246L     0.3124     0.15090                   0.114523   \n",
      "15   P354Q     1.0090     0.17890                   1.268078   \n",
      "\n",
      "    individual_stability  \n",
      "0                    NaN  \n",
      "1                    NaN  \n",
      "2               0.599650  \n",
      "3                    NaN  \n",
      "4               1.127251  \n",
      "5                    NaN  \n",
      "6                    NaN  \n",
      "7               1.258393  \n",
      "8               0.225558  \n",
      "9                    NaN  \n",
      "10                   NaN  \n",
      "11                   NaN  \n",
      "12                   NaN  \n",
      "13                   NaN  \n",
      "14                   NaN  \n",
      "15              0.981220  \n"
     ]
    }
   ],
   "source": [
    "# fowler_hi are vairants with high throughput stability measurements\n",
    "fowler_hi = fowler_combined.dropna(subset=['high_throughput_stability']).reset_index(drop=True)\n",
    "print(fowler_hi)"
   ]
  },
  {
   "cell_type": "code",
   "execution_count": 9,
   "metadata": {
    "collapsed": true
   },
   "outputs": [],
   "source": [
    "df_fowler_htp = df_fowler_htp[['variant', 'score', 'se']]"
   ]
  },
  {
   "cell_type": "code",
   "execution_count": 17,
   "metadata": {
    "collapsed": true
   },
   "outputs": [],
   "source": [
    "df1_htp_combined = df1.merge(df_fowler_htp, on = 'variant', how = 'left')"
   ]
  },
  {
   "cell_type": "code",
   "execution_count": 18,
   "metadata": {
    "scrolled": false
   },
   "outputs": [
    {
     "data": {
      "text/html": [
       "<div>\n",
       "<style scoped>\n",
       "    .dataframe tbody tr th:only-of-type {\n",
       "        vertical-align: middle;\n",
       "    }\n",
       "\n",
       "    .dataframe tbody tr th {\n",
       "        vertical-align: top;\n",
       "    }\n",
       "\n",
       "    .dataframe thead th {\n",
       "        text-align: right;\n",
       "    }\n",
       "</style>\n",
       "<table border=\"1\" class=\"dataframe\">\n",
       "  <thead>\n",
       "    <tr style=\"text-align: right;\">\n",
       "      <th></th>\n",
       "      <th>variant</th>\n",
       "      <th>stability</th>\n",
       "      <th>Std. Error</th>\n",
       "      <th>score</th>\n",
       "      <th>se</th>\n",
       "    </tr>\n",
       "  </thead>\n",
       "  <tbody>\n",
       "    <tr>\n",
       "      <th>0</th>\n",
       "      <td>K6E</td>\n",
       "      <td>0.65760</td>\n",
       "      <td>0.082270</td>\n",
       "      <td>1.263799</td>\n",
       "      <td>0.148401</td>\n",
       "    </tr>\n",
       "    <tr>\n",
       "      <th>1</th>\n",
       "      <td>K6I</td>\n",
       "      <td>0.92930</td>\n",
       "      <td>0.258500</td>\n",
       "      <td>0.400211</td>\n",
       "      <td>0.101262</td>\n",
       "    </tr>\n",
       "    <tr>\n",
       "      <th>2</th>\n",
       "      <td>R15S</td>\n",
       "      <td>1.02800</td>\n",
       "      <td>0.255600</td>\n",
       "      <td>1.025132</td>\n",
       "      <td>0.108161</td>\n",
       "    </tr>\n",
       "    <tr>\n",
       "      <th>3</th>\n",
       "      <td>M35V</td>\n",
       "      <td>1.11200</td>\n",
       "      <td>0.070860</td>\n",
       "      <td>1.061209</td>\n",
       "      <td>0.036803</td>\n",
       "    </tr>\n",
       "    <tr>\n",
       "      <th>4</th>\n",
       "      <td>P38H</td>\n",
       "      <td>0.85630</td>\n",
       "      <td>0.115000</td>\n",
       "      <td>0.620798</td>\n",
       "      <td>0.109320</td>\n",
       "    </tr>\n",
       "    <tr>\n",
       "      <th>5</th>\n",
       "      <td>G44D</td>\n",
       "      <td>1.09600</td>\n",
       "      <td>0.164800</td>\n",
       "      <td>0.799232</td>\n",
       "      <td>0.077531</td>\n",
       "    </tr>\n",
       "    <tr>\n",
       "      <th>6</th>\n",
       "      <td>A79T</td>\n",
       "      <td>0.81540</td>\n",
       "      <td>0.216400</td>\n",
       "      <td>0.998154</td>\n",
       "      <td>0.082908</td>\n",
       "    </tr>\n",
       "    <tr>\n",
       "      <th>7</th>\n",
       "      <td>D92N</td>\n",
       "      <td>0.94770</td>\n",
       "      <td>0.216500</td>\n",
       "      <td>NaN</td>\n",
       "      <td>NaN</td>\n",
       "    </tr>\n",
       "    <tr>\n",
       "      <th>8</th>\n",
       "      <td>H93Q</td>\n",
       "      <td>0.48910</td>\n",
       "      <td>0.152900</td>\n",
       "      <td>NaN</td>\n",
       "      <td>NaN</td>\n",
       "    </tr>\n",
       "    <tr>\n",
       "      <th>9</th>\n",
       "      <td>H93R</td>\n",
       "      <td>0.79060</td>\n",
       "      <td>0.096470</td>\n",
       "      <td>0.816583</td>\n",
       "      <td>0.058123</td>\n",
       "    </tr>\n",
       "    <tr>\n",
       "      <th>10</th>\n",
       "      <td>I101F</td>\n",
       "      <td>0.76440</td>\n",
       "      <td>0.249500</td>\n",
       "      <td>NaN</td>\n",
       "      <td>NaN</td>\n",
       "    </tr>\n",
       "    <tr>\n",
       "      <th>11</th>\n",
       "      <td>I101T</td>\n",
       "      <td>0.06904</td>\n",
       "      <td>0.057100</td>\n",
       "      <td>NaN</td>\n",
       "      <td>NaN</td>\n",
       "    </tr>\n",
       "    <tr>\n",
       "      <th>12</th>\n",
       "      <td>N117S</td>\n",
       "      <td>1.11700</td>\n",
       "      <td>0.036910</td>\n",
       "      <td>1.130212</td>\n",
       "      <td>0.041832</td>\n",
       "    </tr>\n",
       "    <tr>\n",
       "      <th>13</th>\n",
       "      <td>H123Y</td>\n",
       "      <td>0.71030</td>\n",
       "      <td>0.310800</td>\n",
       "      <td>NaN</td>\n",
       "      <td>NaN</td>\n",
       "    </tr>\n",
       "    <tr>\n",
       "      <th>14</th>\n",
       "      <td>H123Q</td>\n",
       "      <td>0.76860</td>\n",
       "      <td>0.180900</td>\n",
       "      <td>NaN</td>\n",
       "      <td>NaN</td>\n",
       "    </tr>\n",
       "    <tr>\n",
       "      <th>15</th>\n",
       "      <td>C124S</td>\n",
       "      <td>0.96190</td>\n",
       "      <td>0.130300</td>\n",
       "      <td>1.137468</td>\n",
       "      <td>0.105480</td>\n",
       "    </tr>\n",
       "    <tr>\n",
       "      <th>16</th>\n",
       "      <td>C124R</td>\n",
       "      <td>0.60870</td>\n",
       "      <td>0.126300</td>\n",
       "      <td>0.280033</td>\n",
       "      <td>0.058791</td>\n",
       "    </tr>\n",
       "    <tr>\n",
       "      <th>17</th>\n",
       "      <td>A126D</td>\n",
       "      <td>1.07000</td>\n",
       "      <td>0.288500</td>\n",
       "      <td>NaN</td>\n",
       "      <td>NaN</td>\n",
       "    </tr>\n",
       "    <tr>\n",
       "      <th>18</th>\n",
       "      <td>G127R</td>\n",
       "      <td>0.79600</td>\n",
       "      <td>0.075870</td>\n",
       "      <td>0.490891</td>\n",
       "      <td>0.000601</td>\n",
       "    </tr>\n",
       "    <tr>\n",
       "      <th>19</th>\n",
       "      <td>G129R</td>\n",
       "      <td>0.40990</td>\n",
       "      <td>0.130300</td>\n",
       "      <td>0.488615</td>\n",
       "      <td>0.059027</td>\n",
       "    </tr>\n",
       "    <tr>\n",
       "      <th>20</th>\n",
       "      <td>G129E</td>\n",
       "      <td>0.98660</td>\n",
       "      <td>0.075120</td>\n",
       "      <td>0.755335</td>\n",
       "      <td>0.143126</td>\n",
       "    </tr>\n",
       "    <tr>\n",
       "      <th>21</th>\n",
       "      <td>R130L</td>\n",
       "      <td>1.01700</td>\n",
       "      <td>0.062640</td>\n",
       "      <td>1.193847</td>\n",
       "      <td>0.035621</td>\n",
       "    </tr>\n",
       "    <tr>\n",
       "      <th>22</th>\n",
       "      <td>R130P</td>\n",
       "      <td>1.03200</td>\n",
       "      <td>0.073220</td>\n",
       "      <td>1.156291</td>\n",
       "      <td>0.034481</td>\n",
       "    </tr>\n",
       "    <tr>\n",
       "      <th>23</th>\n",
       "      <td>R130Q</td>\n",
       "      <td>0.89230</td>\n",
       "      <td>0.152200</td>\n",
       "      <td>NaN</td>\n",
       "      <td>NaN</td>\n",
       "    </tr>\n",
       "    <tr>\n",
       "      <th>24</th>\n",
       "      <td>T131I</td>\n",
       "      <td>0.76690</td>\n",
       "      <td>0.129700</td>\n",
       "      <td>0.723843</td>\n",
       "      <td>0.270795</td>\n",
       "    </tr>\n",
       "    <tr>\n",
       "      <th>25</th>\n",
       "      <td>G132D</td>\n",
       "      <td>0.69720</td>\n",
       "      <td>0.009077</td>\n",
       "      <td>NaN</td>\n",
       "      <td>NaN</td>\n",
       "    </tr>\n",
       "    <tr>\n",
       "      <th>26</th>\n",
       "      <td>V133I</td>\n",
       "      <td>0.74390</td>\n",
       "      <td>0.079270</td>\n",
       "      <td>1.076106</td>\n",
       "      <td>0.013396</td>\n",
       "    </tr>\n",
       "    <tr>\n",
       "      <th>27</th>\n",
       "      <td>M134I</td>\n",
       "      <td>0.73480</td>\n",
       "      <td>0.057570</td>\n",
       "      <td>0.566351</td>\n",
       "      <td>0.086617</td>\n",
       "    </tr>\n",
       "    <tr>\n",
       "      <th>28</th>\n",
       "      <td>I135V</td>\n",
       "      <td>1.10000</td>\n",
       "      <td>0.195100</td>\n",
       "      <td>NaN</td>\n",
       "      <td>NaN</td>\n",
       "    </tr>\n",
       "    <tr>\n",
       "      <th>29</th>\n",
       "      <td>Y138L</td>\n",
       "      <td>0.93270</td>\n",
       "      <td>0.268300</td>\n",
       "      <td>NaN</td>\n",
       "      <td>NaN</td>\n",
       "    </tr>\n",
       "    <tr>\n",
       "      <th>30</th>\n",
       "      <td>R142W</td>\n",
       "      <td>0.83030</td>\n",
       "      <td>0.112600</td>\n",
       "      <td>0.418744</td>\n",
       "      <td>0.074431</td>\n",
       "    </tr>\n",
       "    <tr>\n",
       "      <th>31</th>\n",
       "      <td>Y155C</td>\n",
       "      <td>0.21370</td>\n",
       "      <td>0.069180</td>\n",
       "      <td>NaN</td>\n",
       "      <td>NaN</td>\n",
       "    </tr>\n",
       "    <tr>\n",
       "      <th>32</th>\n",
       "      <td>T167N</td>\n",
       "      <td>0.77780</td>\n",
       "      <td>0.188200</td>\n",
       "      <td>0.701552</td>\n",
       "      <td>0.073852</td>\n",
       "    </tr>\n",
       "    <tr>\n",
       "      <th>33</th>\n",
       "      <td>Q171E</td>\n",
       "      <td>0.69500</td>\n",
       "      <td>0.232700</td>\n",
       "      <td>0.591357</td>\n",
       "      <td>0.133330</td>\n",
       "    </tr>\n",
       "    <tr>\n",
       "      <th>34</th>\n",
       "      <td>R173H</td>\n",
       "      <td>0.29890</td>\n",
       "      <td>0.050650</td>\n",
       "      <td>NaN</td>\n",
       "      <td>NaN</td>\n",
       "    </tr>\n",
       "    <tr>\n",
       "      <th>35</th>\n",
       "      <td>Y176C</td>\n",
       "      <td>1.06800</td>\n",
       "      <td>0.117100</td>\n",
       "      <td>NaN</td>\n",
       "      <td>NaN</td>\n",
       "    </tr>\n",
       "    <tr>\n",
       "      <th>36</th>\n",
       "      <td>Y180H</td>\n",
       "      <td>1.19300</td>\n",
       "      <td>0.159300</td>\n",
       "      <td>NaN</td>\n",
       "      <td>NaN</td>\n",
       "    </tr>\n",
       "    <tr>\n",
       "      <th>37</th>\n",
       "      <td>M198I</td>\n",
       "      <td>1.05900</td>\n",
       "      <td>0.046620</td>\n",
       "      <td>NaN</td>\n",
       "      <td>NaN</td>\n",
       "    </tr>\n",
       "    <tr>\n",
       "      <th>38</th>\n",
       "      <td>N262S</td>\n",
       "      <td>0.81870</td>\n",
       "      <td>0.039190</td>\n",
       "      <td>0.832972</td>\n",
       "      <td>0.032090</td>\n",
       "    </tr>\n",
       "    <tr>\n",
       "      <th>39</th>\n",
       "      <td>T232A</td>\n",
       "      <td>0.93710</td>\n",
       "      <td>0.137800</td>\n",
       "      <td>0.768636</td>\n",
       "      <td>0.178352</td>\n",
       "    </tr>\n",
       "    <tr>\n",
       "      <th>40</th>\n",
       "      <td>P246L</td>\n",
       "      <td>0.31240</td>\n",
       "      <td>0.150900</td>\n",
       "      <td>0.267038</td>\n",
       "      <td>0.113486</td>\n",
       "    </tr>\n",
       "    <tr>\n",
       "      <th>41</th>\n",
       "      <td>D268E</td>\n",
       "      <td>0.86650</td>\n",
       "      <td>0.244100</td>\n",
       "      <td>NaN</td>\n",
       "      <td>NaN</td>\n",
       "    </tr>\n",
       "    <tr>\n",
       "      <th>42</th>\n",
       "      <td>D326N</td>\n",
       "      <td>0.48160</td>\n",
       "      <td>0.099490</td>\n",
       "      <td>NaN</td>\n",
       "      <td>NaN</td>\n",
       "    </tr>\n",
       "    <tr>\n",
       "      <th>43</th>\n",
       "      <td>K342N</td>\n",
       "      <td>1.18400</td>\n",
       "      <td>0.273700</td>\n",
       "      <td>0.971596</td>\n",
       "      <td>0.049934</td>\n",
       "    </tr>\n",
       "    <tr>\n",
       "      <th>44</th>\n",
       "      <td>P354Q</td>\n",
       "      <td>1.00900</td>\n",
       "      <td>0.178900</td>\n",
       "      <td>1.196048</td>\n",
       "      <td>0.023570</td>\n",
       "    </tr>\n",
       "    <tr>\n",
       "      <th>45</th>\n",
       "      <td>T382S</td>\n",
       "      <td>0.03478</td>\n",
       "      <td>0.023480</td>\n",
       "      <td>NaN</td>\n",
       "      <td>NaN</td>\n",
       "    </tr>\n",
       "  </tbody>\n",
       "</table>\n",
       "</div>"
      ],
      "text/plain": [
       "   variant  stability  Std. Error     score        se\n",
       "0      K6E    0.65760    0.082270  1.263799  0.148401\n",
       "1      K6I    0.92930    0.258500  0.400211  0.101262\n",
       "2     R15S    1.02800    0.255600  1.025132  0.108161\n",
       "3     M35V    1.11200    0.070860  1.061209  0.036803\n",
       "4     P38H    0.85630    0.115000  0.620798  0.109320\n",
       "5     G44D    1.09600    0.164800  0.799232  0.077531\n",
       "6     A79T    0.81540    0.216400  0.998154  0.082908\n",
       "7     D92N    0.94770    0.216500       NaN       NaN\n",
       "8     H93Q    0.48910    0.152900       NaN       NaN\n",
       "9     H93R    0.79060    0.096470  0.816583  0.058123\n",
       "10   I101F    0.76440    0.249500       NaN       NaN\n",
       "11   I101T    0.06904    0.057100       NaN       NaN\n",
       "12   N117S    1.11700    0.036910  1.130212  0.041832\n",
       "13   H123Y    0.71030    0.310800       NaN       NaN\n",
       "14   H123Q    0.76860    0.180900       NaN       NaN\n",
       "15   C124S    0.96190    0.130300  1.137468  0.105480\n",
       "16   C124R    0.60870    0.126300  0.280033  0.058791\n",
       "17   A126D    1.07000    0.288500       NaN       NaN\n",
       "18   G127R    0.79600    0.075870  0.490891  0.000601\n",
       "19   G129R    0.40990    0.130300  0.488615  0.059027\n",
       "20   G129E    0.98660    0.075120  0.755335  0.143126\n",
       "21   R130L    1.01700    0.062640  1.193847  0.035621\n",
       "22   R130P    1.03200    0.073220  1.156291  0.034481\n",
       "23   R130Q    0.89230    0.152200       NaN       NaN\n",
       "24   T131I    0.76690    0.129700  0.723843  0.270795\n",
       "25   G132D    0.69720    0.009077       NaN       NaN\n",
       "26   V133I    0.74390    0.079270  1.076106  0.013396\n",
       "27   M134I    0.73480    0.057570  0.566351  0.086617\n",
       "28   I135V    1.10000    0.195100       NaN       NaN\n",
       "29   Y138L    0.93270    0.268300       NaN       NaN\n",
       "30   R142W    0.83030    0.112600  0.418744  0.074431\n",
       "31   Y155C    0.21370    0.069180       NaN       NaN\n",
       "32   T167N    0.77780    0.188200  0.701552  0.073852\n",
       "33   Q171E    0.69500    0.232700  0.591357  0.133330\n",
       "34   R173H    0.29890    0.050650       NaN       NaN\n",
       "35   Y176C    1.06800    0.117100       NaN       NaN\n",
       "36   Y180H    1.19300    0.159300       NaN       NaN\n",
       "37   M198I    1.05900    0.046620       NaN       NaN\n",
       "38   N262S    0.81870    0.039190  0.832972  0.032090\n",
       "39   T232A    0.93710    0.137800  0.768636  0.178352\n",
       "40   P246L    0.31240    0.150900  0.267038  0.113486\n",
       "41   D268E    0.86650    0.244100       NaN       NaN\n",
       "42   D326N    0.48160    0.099490       NaN       NaN\n",
       "43   K342N    1.18400    0.273700  0.971596  0.049934\n",
       "44   P354Q    1.00900    0.178900  1.196048  0.023570\n",
       "45   T382S    0.03478    0.023480       NaN       NaN"
      ]
     },
     "execution_count": 18,
     "metadata": {},
     "output_type": "execute_result"
    }
   ],
   "source": [
    "df1_htp_combined"
   ]
  },
  {
   "cell_type": "code",
   "execution_count": 19,
   "metadata": {
    "collapsed": true
   },
   "outputs": [],
   "source": [
    "df1_htp_combined.dropna(inplace=True)"
   ]
  },
  {
   "cell_type": "code",
   "execution_count": 21,
   "metadata": {
    "scrolled": false
   },
   "outputs": [
    {
     "data": {
      "text/html": [
       "<div>\n",
       "<style scoped>\n",
       "    .dataframe tbody tr th:only-of-type {\n",
       "        vertical-align: middle;\n",
       "    }\n",
       "\n",
       "    .dataframe tbody tr th {\n",
       "        vertical-align: top;\n",
       "    }\n",
       "\n",
       "    .dataframe thead th {\n",
       "        text-align: right;\n",
       "    }\n",
       "</style>\n",
       "<table border=\"1\" class=\"dataframe\">\n",
       "  <thead>\n",
       "    <tr style=\"text-align: right;\">\n",
       "      <th></th>\n",
       "      <th>variant</th>\n",
       "      <th>stability</th>\n",
       "      <th>Std. Error</th>\n",
       "      <th>score</th>\n",
       "      <th>se</th>\n",
       "    </tr>\n",
       "  </thead>\n",
       "  <tbody>\n",
       "    <tr>\n",
       "      <th>0</th>\n",
       "      <td>K6E</td>\n",
       "      <td>0.6576</td>\n",
       "      <td>0.08227</td>\n",
       "      <td>1.263799</td>\n",
       "      <td>0.148401</td>\n",
       "    </tr>\n",
       "    <tr>\n",
       "      <th>1</th>\n",
       "      <td>K6I</td>\n",
       "      <td>0.9293</td>\n",
       "      <td>0.25850</td>\n",
       "      <td>0.400211</td>\n",
       "      <td>0.101262</td>\n",
       "    </tr>\n",
       "    <tr>\n",
       "      <th>2</th>\n",
       "      <td>R15S</td>\n",
       "      <td>1.0280</td>\n",
       "      <td>0.25560</td>\n",
       "      <td>1.025132</td>\n",
       "      <td>0.108161</td>\n",
       "    </tr>\n",
       "    <tr>\n",
       "      <th>3</th>\n",
       "      <td>M35V</td>\n",
       "      <td>1.1120</td>\n",
       "      <td>0.07086</td>\n",
       "      <td>1.061209</td>\n",
       "      <td>0.036803</td>\n",
       "    </tr>\n",
       "    <tr>\n",
       "      <th>4</th>\n",
       "      <td>P38H</td>\n",
       "      <td>0.8563</td>\n",
       "      <td>0.11500</td>\n",
       "      <td>0.620798</td>\n",
       "      <td>0.109320</td>\n",
       "    </tr>\n",
       "    <tr>\n",
       "      <th>5</th>\n",
       "      <td>G44D</td>\n",
       "      <td>1.0960</td>\n",
       "      <td>0.16480</td>\n",
       "      <td>0.799232</td>\n",
       "      <td>0.077531</td>\n",
       "    </tr>\n",
       "    <tr>\n",
       "      <th>6</th>\n",
       "      <td>A79T</td>\n",
       "      <td>0.8154</td>\n",
       "      <td>0.21640</td>\n",
       "      <td>0.998154</td>\n",
       "      <td>0.082908</td>\n",
       "    </tr>\n",
       "    <tr>\n",
       "      <th>7</th>\n",
       "      <td>H93R</td>\n",
       "      <td>0.7906</td>\n",
       "      <td>0.09647</td>\n",
       "      <td>0.816583</td>\n",
       "      <td>0.058123</td>\n",
       "    </tr>\n",
       "    <tr>\n",
       "      <th>8</th>\n",
       "      <td>N117S</td>\n",
       "      <td>1.1170</td>\n",
       "      <td>0.03691</td>\n",
       "      <td>1.130212</td>\n",
       "      <td>0.041832</td>\n",
       "    </tr>\n",
       "    <tr>\n",
       "      <th>9</th>\n",
       "      <td>C124S</td>\n",
       "      <td>0.9619</td>\n",
       "      <td>0.13030</td>\n",
       "      <td>1.137468</td>\n",
       "      <td>0.105480</td>\n",
       "    </tr>\n",
       "    <tr>\n",
       "      <th>10</th>\n",
       "      <td>C124R</td>\n",
       "      <td>0.6087</td>\n",
       "      <td>0.12630</td>\n",
       "      <td>0.280033</td>\n",
       "      <td>0.058791</td>\n",
       "    </tr>\n",
       "    <tr>\n",
       "      <th>11</th>\n",
       "      <td>G127R</td>\n",
       "      <td>0.7960</td>\n",
       "      <td>0.07587</td>\n",
       "      <td>0.490891</td>\n",
       "      <td>0.000601</td>\n",
       "    </tr>\n",
       "    <tr>\n",
       "      <th>12</th>\n",
       "      <td>G129R</td>\n",
       "      <td>0.4099</td>\n",
       "      <td>0.13030</td>\n",
       "      <td>0.488615</td>\n",
       "      <td>0.059027</td>\n",
       "    </tr>\n",
       "    <tr>\n",
       "      <th>13</th>\n",
       "      <td>G129E</td>\n",
       "      <td>0.9866</td>\n",
       "      <td>0.07512</td>\n",
       "      <td>0.755335</td>\n",
       "      <td>0.143126</td>\n",
       "    </tr>\n",
       "    <tr>\n",
       "      <th>14</th>\n",
       "      <td>R130L</td>\n",
       "      <td>1.0170</td>\n",
       "      <td>0.06264</td>\n",
       "      <td>1.193847</td>\n",
       "      <td>0.035621</td>\n",
       "    </tr>\n",
       "    <tr>\n",
       "      <th>15</th>\n",
       "      <td>R130P</td>\n",
       "      <td>1.0320</td>\n",
       "      <td>0.07322</td>\n",
       "      <td>1.156291</td>\n",
       "      <td>0.034481</td>\n",
       "    </tr>\n",
       "    <tr>\n",
       "      <th>16</th>\n",
       "      <td>T131I</td>\n",
       "      <td>0.7669</td>\n",
       "      <td>0.12970</td>\n",
       "      <td>0.723843</td>\n",
       "      <td>0.270795</td>\n",
       "    </tr>\n",
       "    <tr>\n",
       "      <th>17</th>\n",
       "      <td>V133I</td>\n",
       "      <td>0.7439</td>\n",
       "      <td>0.07927</td>\n",
       "      <td>1.076106</td>\n",
       "      <td>0.013396</td>\n",
       "    </tr>\n",
       "    <tr>\n",
       "      <th>18</th>\n",
       "      <td>M134I</td>\n",
       "      <td>0.7348</td>\n",
       "      <td>0.05757</td>\n",
       "      <td>0.566351</td>\n",
       "      <td>0.086617</td>\n",
       "    </tr>\n",
       "    <tr>\n",
       "      <th>19</th>\n",
       "      <td>R142W</td>\n",
       "      <td>0.8303</td>\n",
       "      <td>0.11260</td>\n",
       "      <td>0.418744</td>\n",
       "      <td>0.074431</td>\n",
       "    </tr>\n",
       "    <tr>\n",
       "      <th>20</th>\n",
       "      <td>T167N</td>\n",
       "      <td>0.7778</td>\n",
       "      <td>0.18820</td>\n",
       "      <td>0.701552</td>\n",
       "      <td>0.073852</td>\n",
       "    </tr>\n",
       "    <tr>\n",
       "      <th>21</th>\n",
       "      <td>Q171E</td>\n",
       "      <td>0.6950</td>\n",
       "      <td>0.23270</td>\n",
       "      <td>0.591357</td>\n",
       "      <td>0.133330</td>\n",
       "    </tr>\n",
       "    <tr>\n",
       "      <th>22</th>\n",
       "      <td>N262S</td>\n",
       "      <td>0.8187</td>\n",
       "      <td>0.03919</td>\n",
       "      <td>0.832972</td>\n",
       "      <td>0.032090</td>\n",
       "    </tr>\n",
       "    <tr>\n",
       "      <th>23</th>\n",
       "      <td>T232A</td>\n",
       "      <td>0.9371</td>\n",
       "      <td>0.13780</td>\n",
       "      <td>0.768636</td>\n",
       "      <td>0.178352</td>\n",
       "    </tr>\n",
       "    <tr>\n",
       "      <th>24</th>\n",
       "      <td>P246L</td>\n",
       "      <td>0.3124</td>\n",
       "      <td>0.15090</td>\n",
       "      <td>0.267038</td>\n",
       "      <td>0.113486</td>\n",
       "    </tr>\n",
       "    <tr>\n",
       "      <th>25</th>\n",
       "      <td>K342N</td>\n",
       "      <td>1.1840</td>\n",
       "      <td>0.27370</td>\n",
       "      <td>0.971596</td>\n",
       "      <td>0.049934</td>\n",
       "    </tr>\n",
       "    <tr>\n",
       "      <th>26</th>\n",
       "      <td>P354Q</td>\n",
       "      <td>1.0090</td>\n",
       "      <td>0.17890</td>\n",
       "      <td>1.196048</td>\n",
       "      <td>0.023570</td>\n",
       "    </tr>\n",
       "  </tbody>\n",
       "</table>\n",
       "</div>"
      ],
      "text/plain": [
       "   variant  stability  Std. Error     score        se\n",
       "0      K6E     0.6576     0.08227  1.263799  0.148401\n",
       "1      K6I     0.9293     0.25850  0.400211  0.101262\n",
       "2     R15S     1.0280     0.25560  1.025132  0.108161\n",
       "3     M35V     1.1120     0.07086  1.061209  0.036803\n",
       "4     P38H     0.8563     0.11500  0.620798  0.109320\n",
       "5     G44D     1.0960     0.16480  0.799232  0.077531\n",
       "6     A79T     0.8154     0.21640  0.998154  0.082908\n",
       "7     H93R     0.7906     0.09647  0.816583  0.058123\n",
       "8    N117S     1.1170     0.03691  1.130212  0.041832\n",
       "9    C124S     0.9619     0.13030  1.137468  0.105480\n",
       "10   C124R     0.6087     0.12630  0.280033  0.058791\n",
       "11   G127R     0.7960     0.07587  0.490891  0.000601\n",
       "12   G129R     0.4099     0.13030  0.488615  0.059027\n",
       "13   G129E     0.9866     0.07512  0.755335  0.143126\n",
       "14   R130L     1.0170     0.06264  1.193847  0.035621\n",
       "15   R130P     1.0320     0.07322  1.156291  0.034481\n",
       "16   T131I     0.7669     0.12970  0.723843  0.270795\n",
       "17   V133I     0.7439     0.07927  1.076106  0.013396\n",
       "18   M134I     0.7348     0.05757  0.566351  0.086617\n",
       "19   R142W     0.8303     0.11260  0.418744  0.074431\n",
       "20   T167N     0.7778     0.18820  0.701552  0.073852\n",
       "21   Q171E     0.6950     0.23270  0.591357  0.133330\n",
       "22   N262S     0.8187     0.03919  0.832972  0.032090\n",
       "23   T232A     0.9371     0.13780  0.768636  0.178352\n",
       "24   P246L     0.3124     0.15090  0.267038  0.113486\n",
       "25   K342N     1.1840     0.27370  0.971596  0.049934\n",
       "26   P354Q     1.0090     0.17890  1.196048  0.023570"
      ]
     },
     "execution_count": 21,
     "metadata": {},
     "output_type": "execute_result"
    }
   ],
   "source": [
    "df1_htp_combined.reset_index(drop=True)"
   ]
  },
  {
   "cell_type": "code",
   "execution_count": 59,
   "metadata": {},
   "outputs": [
    {
     "data": {
      "image/png": "[encoded data removed]",
      "text/plain": [
       "<Figure size 1080x288 with 1 Axes>"
      ]
     },
     "metadata": {},
     "output_type": "display_data"
    }
   ],
   "source": [
    "fig, ax = plt.subplots(figsize=(15,4))\n",
    "index = np.arange(len(df1_htp_combined))\n",
    "bar_width =0.35\n",
    "\n",
    "stab_1 = ax.bar(index, df1_htp_combined['score'], bar_width, align='edge',\n",
    "                yerr=df1_htp_combined['se'], label='high throughput stability',\n",
    "                color='tab:green', alpha=0.7)\n",
    "\n",
    "stab_2 = ax.bar(index+bar_width, df1_htp_combined['stability'], bar_width, align='edge',\n",
    "                yerr=df1_htp_combined['Std. Error'], label='western stability',\n",
    "               color='tab:orange', alpha=0.7)\n",
    "\n",
    "ax.set_xticks(index + bar_width / 2)\n",
    "ax.set_xticklabels(df1_htp_combined['variant'], rotation=90)\n",
    "ax.legend(loc='upper center')\n",
    "\n",
    "mpl.rcParams['pdf.fonttype'] = 42\n",
    "plt.savefig('Output PDFs/Fowler high throughput stability.pdf', transparent=True)\n",
    "\n",
    "plt.show()"
   ]
  },
  {
   "cell_type": "code",
   "execution_count": 61,
   "metadata": {},
   "outputs": [
    {
     "name": "stdout",
     "output_type": "stream",
     "text": [
      "Pearson correlation for htp vs western is:\n",
      "Correlation: 0.5931\n",
      "Two Tailed P Value: 0.0011\n"
     ]
    }
   ],
   "source": [
    "print(\"Pearson correlation for htp vs western is:\")\n",
    "pearson(df1_htp_combined['score'], df1_htp_combined['stability'])"
   ]
  },
  {
   "cell_type": "code",
   "execution_count": 2,
   "metadata": {
    "collapsed": true
   },
   "outputs": [],
   "source": [
    "g = lambda x: 3*x+1"
   ]
  },
  {
   "cell_type": "code",
   "execution_count": 3,
   "metadata": {},
   "outputs": [
    {
     "data": {
      "text/plain": [
       "7"
      ]
     },
     "execution_count": 3,
     "metadata": {},
     "output_type": "execute_result"
    }
   ],
   "source": [
    "g(2)"
   ]
  },
  {
   "cell_type": "code",
   "execution_count": 6,
   "metadata": {},
   "outputs": [
    {
     "name": "stdout",
     "output_type": "stream",
     "text": [
      "adams\n"
     ]
    }
   ],
   "source": [
    "name = 'Douglas Adams'\n",
    "print(name.split(\" \")[-1].lower())"
   ]
  },
  {
   "cell_type": "code",
   "execution_count": null,
   "metadata": {
    "collapsed": true
   },
   "outputs": [],
   "source": []
  }
 ],
 "metadata": {
  "kernelspec": {
   "display_name": "Python 3",
   "language": "python",
   "name": "python3"
  },
  "language_info": {
   "codemirror_mode": {
    "name": "ipython",
    "version": 3
   },
   "file_extension": ".py",
   "mimetype": "text/x-python",
   "name": "python",
   "nbconvert_exporter": "python",
   "pygments_lexer": "ipython3",
   "version": "3.6.8"
  }
 },
 "nbformat": 4,
 "nbformat_minor": 2
}
