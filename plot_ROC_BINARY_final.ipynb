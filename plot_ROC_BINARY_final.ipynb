{
 "cells": [
  {
   "cell_type": "code",
   "execution_count": 1,
   "metadata": {
    "collapsed": true
   },
   "outputs": [],
   "source": [
    "import pandas as pd\n",
    "import numpy as np\n",
    "from sklearn.metrics import precision_recall_curve\n",
    "import matplotlib.pyplot as plt\n",
    "import matplotlib as mpl"
   ]
  },
  {
   "cell_type": "code",
   "execution_count": 2,
   "metadata": {},
   "outputs": [
    {
     "name": "stdout",
     "output_type": "stream",
     "text": [
      "   variant  MCF10A score  CADD  SNAP2  PolyPhen  SIFT  Cum_score  ground truth\n",
      "0      K6E        0.3311  26.6     67     0.155  0.99   1.623520           NaN\n",
      "1      K6I        0.4544  27.3     64     0.244  1.00   1.888279           NaN\n",
      "2     R15S        0.3870  25.0     65     0.123  1.00   2.581101           1.0\n",
      "3     M35V        0.3606  25.0     44     0.914  1.00   4.783403           1.0\n",
      "4     P38H        0.3521  26.1     44     1.000  1.00   3.080331           NaN\n",
      "5     G44D        0.6232  26.0     65     0.968  1.00  -0.216137           1.0\n",
      "6     A79T        0.5711  23.0    -95     0.005  0.41   0.610590           NaN\n",
      "7     D92N        0.2677  28.8     90     1.000  1.00   0.091202           NaN\n",
      "8     H93Q        0.3301  26.1     77     1.000  1.00  -0.030278           0.0\n",
      "9     H93R        0.3930  27.0     83     0.998  0.97   3.108621           0.0\n",
      "10   I101F        0.8803  26.0      6     0.998  1.00   2.380877           NaN\n",
      "11   I101T        0.7138  29.0     44     0.998  1.00  -0.240901           NaN\n"
     ]
    }
   ],
   "source": [
    "df = pd.read_csv('Datasets/PTEN_MCF10A_predictions_ref_set_binary_new.csv',\n",
    "                index_col=False)\n",
    "print(df.head(12))"
   ]
  },
  {
   "cell_type": "code",
   "execution_count": 3,
   "metadata": {},
   "outputs": [
    {
     "name": "stdout",
     "output_type": "stream",
     "text": [
      "   variant  MCF10A score  CADD  SNAP2  PolyPhen  SIFT  Cum_score  ground truth\n",
      "0     R15S        0.3870  25.0     65     0.123  1.00   2.581101           1.0\n",
      "1     M35V        0.3606  25.0     44     0.914  1.00   4.783403           1.0\n",
      "2     G44D        0.6232  26.0     65     0.968  1.00  -0.216137           1.0\n",
      "3     H93Q        0.3301  26.1     77     1.000  1.00  -0.030278           0.0\n",
      "4     H93R        0.3930  27.0     83     0.998  0.97   3.108621           0.0\n",
      "5    H123Q        0.9934  25.0     82     0.998  0.98   4.544401           1.0\n",
      "6    H123Y        0.6383  25.0     80     0.996  1.00   4.895643           1.0\n",
      "7    C124S        0.8797  27.3     83     1.000  1.00   4.451413           1.0\n",
      "8    C124R        0.6986  28.0     98     0.999  1.00   1.027467           1.0\n",
      "9    G127R        0.9753  29.0     91     1.000  1.00   1.477588           1.0\n",
      "10   G129R        0.8214  29.0     92     1.000  1.00   5.409764           1.0\n",
      "11   G129E        0.8841  32.0     95     1.000  1.00   3.153431           1.0\n",
      "12   R130Q        0.5361  34.0     96     0.998  0.98   2.040164           1.0\n",
      "13   R130P        0.9134  34.0     93     0.999  1.00   3.098140           1.0\n",
      "14   R130L        0.4728  34.0     92     0.999  1.00   1.911329           1.0\n",
      "15   T131I        0.4788  26.0     80     0.999  0.98   3.361889           1.0\n",
      "16   G132D        0.6304  31.0     92     1.000  0.97   1.439347           1.0\n",
      "17   M134I        0.6386  27.0    -15     0.977  1.00   0.073569           1.0\n",
      "18   I135V        0.3790  23.0    -72     0.987  0.72   0.304427           1.0\n",
      "19   Y155C        0.5901  33.0     22     0.999  1.00   0.330359           1.0\n",
      "20   T167N        0.5664  26.0     45     0.955  1.00   2.309708           1.0\n",
      "21   R173H        0.2672  34.0     54     0.966  0.97   1.291488           1.0\n",
      "22   Y180H        0.1171  23.0    -78     0.000  0.47   0.242332           0.0\n",
      "23   M198I        0.1821  22.0    -85     0.001  0.00   0.382340           0.0\n",
      "24   N228S        0.1243  18.0    -78     0.007  0.26   0.087482           0.0\n",
      "25   P246L        0.6162  22.0     35     0.116  0.94   0.208005           1.0\n",
      "26   N262S        0.1021  23.0    -63     0.007  0.79  -0.225343           0.0\n",
      "27   D268E        0.1080  18.0    -89     0.007  0.00   0.929151           0.0\n",
      "28   P354Q        0.1768  22.0    -52     0.238  0.91   1.012026           0.0\n"
     ]
    }
   ],
   "source": [
    "df = df.dropna().reset_index(drop=True)\n",
    "print(df)"
   ]
  },
  {
   "cell_type": "code",
   "execution_count": 4,
   "metadata": {
    "scrolled": true
   },
   "outputs": [
    {
     "data": {
      "text/plain": [
       "0     1\n",
       "1     1\n",
       "2     1\n",
       "3     0\n",
       "4     0\n",
       "5     1\n",
       "6     1\n",
       "7     1\n",
       "8     1\n",
       "9     1\n",
       "10    1\n",
       "11    1\n",
       "12    1\n",
       "13    1\n",
       "14    1\n",
       "15    1\n",
       "16    1\n",
       "17    1\n",
       "18    1\n",
       "19    1\n",
       "20    1\n",
       "21    1\n",
       "22    0\n",
       "23    0\n",
       "24    0\n",
       "25    1\n",
       "26    0\n",
       "27    0\n",
       "28    0\n",
       "Name: ground truth, dtype: int64"
      ]
     },
     "execution_count": 4,
     "metadata": {},
     "output_type": "execute_result"
    }
   ],
   "source": [
    "df['ground truth'].astype(int)"
   ]
  },
  {
   "cell_type": "code",
   "execution_count": 5,
   "metadata": {
    "collapsed": true
   },
   "outputs": [],
   "source": [
    "# calculate ROC curve\n",
    "from sklearn.metrics import roc_curve\n",
    "from sklearn.metrics import roc_auc_score\n",
    "\n",
    "fpr_MCF10A, tpr_MCF10A, thresholds = roc_curve(df['ground truth'],\n",
    "                                               df['MCF10A score'])\n",
    "fpr_CADD, tpr_CADD, thresholds = roc_curve(df['ground truth'],\n",
    "                                               df['CADD'])\n",
    "fpr_SNAP2, tpr_SNAP2, thresholds = roc_curve(df['ground truth'],\n",
    "                                               df['SNAP2'])\n",
    "fpr_SIFT, tpr_SIFT, thresholds = roc_curve(df['ground truth'],\n",
    "                                               df['SIFT'])\n",
    "fpr_PolyPhen, tpr_PolyPhen, thresholds = roc_curve(df['ground truth'],\n",
    "                                               df['PolyPhen'])\n",
    "fpr_yeast, tpr_yeast, thresholds = roc_curve(df['ground truth'],\n",
    "                                               df['Cum_score'])"
   ]
  },
  {
   "cell_type": "code",
   "execution_count": 6,
   "metadata": {},
   "outputs": [
    {
     "name": "stdout",
     "output_type": "stream",
     "text": [
      "The ROC-AUC for MCF10A is 0.970.\n",
      "The ROC-AUC for CADD is 0.866.\n",
      "The ROC-AUC for SNAP2 is 0.860.\n",
      "The ROC-AUC for SIFT is 0.887.\n",
      "The ROC-AUC for PolyPhen2 is 0.818.\n",
      "The ROC-AUC for yeast is 0.792.\n"
     ]
    }
   ],
   "source": [
    "# calculate the AUC for ROC curves\n",
    "\n",
    "roc_auc_MCF10A = roc_auc_score(df['ground truth'], df['MCF10A score'])\n",
    "roc_auc_CADD = roc_auc_score(df['ground truth'], df['CADD'])\n",
    "roc_auc_SNAP2 = roc_auc_score(df['ground truth'], df['SNAP2'])\n",
    "roc_auc_SIFT = roc_auc_score(df['ground truth'], df['SIFT'])\n",
    "roc_auc_PolyPhen = roc_auc_score(df['ground truth'], df['PolyPhen'])\n",
    "roc_auc_yeast = roc_auc_score(df['ground truth'], df['Cum_score'])\n",
    "\n",
    "print('The ROC-AUC for {0} is {1:.3f}.'.format('MCF10A', roc_auc_MCF10A))\n",
    "print('The ROC-AUC for {0} is {1:.3f}.'.format('CADD', roc_auc_CADD))\n",
    "print('The ROC-AUC for {0} is {1:.3f}.'.format('SNAP2', roc_auc_SNAP2))\n",
    "print('The ROC-AUC for {0} is {1:.3f}.'.format('SIFT', roc_auc_SIFT))\n",
    "print('The ROC-AUC for {0} is {1:.3f}.'.format('PolyPhen2', roc_auc_PolyPhen))\n",
    "print('The ROC-AUC for {0} is {1:.3f}.'.format('yeast', roc_auc_yeast))"
   ]
  },
  {
   "cell_type": "code",
   "execution_count": 7,
   "metadata": {
    "scrolled": true
   },
   "outputs": [
    {
     "data": {
      "image/png": "[encoded data removed]",
      "text/plain": [
       "<Figure size 432x288 with 1 Axes>"
      ]
     },
     "metadata": {},
     "output_type": "display_data"
    }
   ],
   "source": [
    "# plot the ROC curves for all the models\n",
    "fig, ax = plt.subplots()\n",
    "# plot the different scores\n",
    "ax.plot(fpr_MCF10A, tpr_MCF10A, label='AUC for {0} is {1:.3f}.'.format('MCF10A', roc_auc_MCF10A))\n",
    "ax.plot(fpr_CADD, tpr_CADD, label='AUC for {0} is {1:.3f}.'.format('CADD', roc_auc_CADD))\n",
    "ax.plot(fpr_SNAP2, tpr_SNAP2, label='AUC for {0} is {1:.3f}.'.format('SNAP2', roc_auc_SNAP2))\n",
    "ax.plot(fpr_SIFT, tpr_SIFT, label='AUC for {0} is {1:.3f}.'.format('SIFT', roc_auc_SIFT))\n",
    "ax.plot(fpr_PolyPhen, tpr_PolyPhen, label='AUC for {0} is {1:.3f}.'.format('PolyPhen2', roc_auc_PolyPhen))\n",
    "ax.plot(fpr_yeast, tpr_yeast, label='AUC for {0} is {1:.3f}.'.format('yeast', roc_auc_yeast))\n",
    "\n",
    "# plot no skill line\n",
    "ax.plot([0, 1], [0, 1], linestyle='--', label='no skill')\n",
    "\n",
    "#ax.plot(r_SIFT, p_SIFT, label='SIFT')\n",
    "\n",
    "ax.set_xlabel('False Positive Rate')\n",
    "ax.set_ylabel('True Positive Rate')\n",
    "ax.set_title('ROC curves, binary classification')\n",
    "legend = ax.legend()\n",
    "\n",
    "mpl.rcParams['pdf.fonttype'] = 42\n",
    "plt.savefig('Output PDFs/roc_binary.pdf', transparent=True, dpi=200)\n",
    "\n",
    "plt.show()"
   ]
  },
  {
   "cell_type": "code",
   "execution_count": 11,
   "metadata": {
    "collapsed": true
   },
   "outputs": [],
   "source": [
    "# calculate precision-recall curve\n",
    "p_MCF10A, r_MCF10A, thresholds = precision_recall_curve(\n",
    "    df['ground truth'], df['MCF10A score'])\n",
    "p_CADD, r_CADD, thresholds = precision_recall_curve(\n",
    "    df['ground truth'], df['CADD'])\n",
    "p_SNAP2, r_SNAP2, thresholds = precision_recall_curve(\n",
    "    df['ground truth'], df['SNAP2'])\n",
    "p_SIFT, r_SIFT, thresholds = precision_recall_curve(\n",
    "    df['ground truth'], df['SIFT'])\n",
    "p_PolyPhen, r_PolyPhen, thresholds = precision_recall_curve(\n",
    "    df['ground truth'], df['PolyPhen'])"
   ]
  }
 ],
 "metadata": {
  "kernelspec": {
   "display_name": "Python 3",
   "language": "python",
   "name": "python3"
  },
  "language_info": {
   "codemirror_mode": {
    "name": "ipython",
    "version": 3
   },
   "file_extension": ".py",
   "mimetype": "text/x-python",
   "name": "python",
   "nbconvert_exporter": "python",
   "pygments_lexer": "ipython3",
   "version": "3.6.8"
  }
 },
 "nbformat": 4,
 "nbformat_minor": 2
}
