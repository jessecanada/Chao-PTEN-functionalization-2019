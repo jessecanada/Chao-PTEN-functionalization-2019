{
 "cells": [
  {
   "cell_type": "code",
   "execution_count": 25,
   "metadata": {
    "collapsed": true
   },
   "outputs": [],
   "source": [
    "import pandas as pd\n",
    "import numpy as np\n",
    "from sklearn.model_selection import train_test_split\n",
    "import matplotlib.pyplot as plt\n",
    "import matplotlib as mpl"
   ]
  },
  {
   "cell_type": "code",
   "execution_count": 2,
   "metadata": {},
   "outputs": [
    {
     "name": "stdout",
     "output_type": "stream",
     "text": [
      "   variant  MCF10A score  CADD  SNAP2  PolyPhen  SIFT  WT_RSA (%)  \\\n",
      "0      K6E        0.3311  26.6     67     0.155  0.99         NaN   \n",
      "1      K6I        0.4544  27.3     64     0.244  1.00         NaN   \n",
      "2     R15S        0.3870  25.0     65     0.123  1.00        53.3   \n",
      "3     M35V        0.3606  25.0     44     0.914  1.00         0.0   \n",
      "4     P38H        0.3521  26.1     44     1.000  1.00         0.0   \n",
      "5     G44D        0.6232  26.0     65     0.968  1.00       117.5   \n",
      "6     A79T        0.5711  23.0    -95     0.005  0.41        86.3   \n",
      "7     D92N        0.2677  28.8     90     1.000  1.00        44.3   \n",
      "8     H93Q        0.3301  26.1     77     1.000  1.00        74.5   \n",
      "9     H93R        0.3930  27.0     83     0.998  0.97        74.5   \n",
      "10   I101F        0.8803  26.0      6     0.998  1.00         0.2   \n",
      "11   I101T        0.7138  29.0     44     0.998  1.00         0.2   \n",
      "\n",
      "    WT_DEPTH (_)  WT_OSP  MT_RSA (%)  MT_DEPTH (_)  MT_OSP  ground truth  \n",
      "0            NaN     NaN         NaN           NaN     NaN           NaN  \n",
      "1            NaN     NaN         NaN           NaN     NaN           NaN  \n",
      "2            3.6    0.32        52.3           3.6    0.37           NaN  \n",
      "3           10.8    0.53         2.7          10.3    0.50           NaN  \n",
      "4           10.5    0.60         0.0          11.3    0.62           NaN  \n",
      "5            3.4    0.14        98.9           3.3    0.12           NaN  \n",
      "6            3.1    0.19        80.2           3.2    0.19           2.0  \n",
      "7            3.7    0.32        44.6           3.9    0.34           NaN  \n",
      "8            3.4    0.22        78.0           3.5    0.21           NaN  \n",
      "9            3.4    0.22        79.1           3.4    0.16           NaN  \n",
      "10           8.7    0.49         0.8           8.8    0.56           NaN  \n",
      "11           8.7    0.49         2.8           8.4    0.44           NaN  \n"
     ]
    }
   ],
   "source": [
    "df = pd.read_csv('Datasets/PTEN_MCF10A_predictions_ref_set_multi_copy.csv',\n",
    "                index_col=False)\n",
    "print(df.head(12))"
   ]
  },
  {
   "cell_type": "code",
   "execution_count": 3,
   "metadata": {},
   "outputs": [
    {
     "data": {
      "text/plain": [
       "1.0    12\n",
       "2.0     7\n",
       "0.0     5\n",
       "Name: ground truth, dtype: int64"
      ]
     },
     "execution_count": 3,
     "metadata": {},
     "output_type": "execute_result"
    }
   ],
   "source": [
    "df['ground truth'].value_counts()"
   ]
  },
  {
   "cell_type": "markdown",
   "metadata": {},
   "source": [
    "# process data"
   ]
  },
  {
   "cell_type": "code",
   "execution_count": 4,
   "metadata": {
    "collapsed": true
   },
   "outputs": [],
   "source": [
    "training_df = df.drop(df.iloc[:,2:6], axis=1).copy()"
   ]
  },
  {
   "cell_type": "code",
   "execution_count": 5,
   "metadata": {
    "collapsed": true,
    "scrolled": true
   },
   "outputs": [],
   "source": [
    "training_df.dropna(inplace=True)"
   ]
  },
  {
   "cell_type": "code",
   "execution_count": 6,
   "metadata": {},
   "outputs": [
    {
     "data": {
      "text/html": [
       "<div>\n",
       "<style scoped>\n",
       "    .dataframe tbody tr th:only-of-type {\n",
       "        vertical-align: middle;\n",
       "    }\n",
       "\n",
       "    .dataframe tbody tr th {\n",
       "        vertical-align: top;\n",
       "    }\n",
       "\n",
       "    .dataframe thead th {\n",
       "        text-align: right;\n",
       "    }\n",
       "</style>\n",
       "<table border=\"1\" class=\"dataframe\">\n",
       "  <thead>\n",
       "    <tr style=\"text-align: right;\">\n",
       "      <th></th>\n",
       "      <th>variant</th>\n",
       "      <th>MCF10A score</th>\n",
       "      <th>WT_RSA (%)</th>\n",
       "      <th>WT_DEPTH (_)</th>\n",
       "      <th>WT_OSP</th>\n",
       "      <th>MT_RSA (%)</th>\n",
       "      <th>MT_DEPTH (_)</th>\n",
       "      <th>MT_OSP</th>\n",
       "      <th>ground truth</th>\n",
       "    </tr>\n",
       "  </thead>\n",
       "  <tbody>\n",
       "    <tr>\n",
       "      <th>0</th>\n",
       "      <td>A79T</td>\n",
       "      <td>0.5711</td>\n",
       "      <td>86.3</td>\n",
       "      <td>3.1</td>\n",
       "      <td>0.19</td>\n",
       "      <td>80.2</td>\n",
       "      <td>3.2</td>\n",
       "      <td>0.19</td>\n",
       "      <td>2.0</td>\n",
       "    </tr>\n",
       "    <tr>\n",
       "      <th>1</th>\n",
       "      <td>N117S</td>\n",
       "      <td>0.4916</td>\n",
       "      <td>25.3</td>\n",
       "      <td>4.0</td>\n",
       "      <td>0.51</td>\n",
       "      <td>10.1</td>\n",
       "      <td>4.0</td>\n",
       "      <td>0.53</td>\n",
       "      <td>1.0</td>\n",
       "    </tr>\n",
       "    <tr>\n",
       "      <th>2</th>\n",
       "      <td>H123Q</td>\n",
       "      <td>0.9934</td>\n",
       "      <td>0.0</td>\n",
       "      <td>11.0</td>\n",
       "      <td>0.60</td>\n",
       "      <td>0.0</td>\n",
       "      <td>11.4</td>\n",
       "      <td>0.64</td>\n",
       "      <td>1.0</td>\n",
       "    </tr>\n",
       "    <tr>\n",
       "      <th>3</th>\n",
       "      <td>H123Y</td>\n",
       "      <td>0.6383</td>\n",
       "      <td>0.0</td>\n",
       "      <td>11.0</td>\n",
       "      <td>0.60</td>\n",
       "      <td>0.0</td>\n",
       "      <td>12.1</td>\n",
       "      <td>0.58</td>\n",
       "      <td>1.0</td>\n",
       "    </tr>\n",
       "    <tr>\n",
       "      <th>4</th>\n",
       "      <td>C124S</td>\n",
       "      <td>0.8797</td>\n",
       "      <td>4.3</td>\n",
       "      <td>6.7</td>\n",
       "      <td>0.52</td>\n",
       "      <td>4.3</td>\n",
       "      <td>7.3</td>\n",
       "      <td>0.54</td>\n",
       "      <td>2.0</td>\n",
       "    </tr>\n",
       "    <tr>\n",
       "      <th>5</th>\n",
       "      <td>C124R</td>\n",
       "      <td>0.6986</td>\n",
       "      <td>4.3</td>\n",
       "      <td>6.7</td>\n",
       "      <td>0.52</td>\n",
       "      <td>8.1</td>\n",
       "      <td>5.8</td>\n",
       "      <td>0.48</td>\n",
       "      <td>2.0</td>\n",
       "    </tr>\n",
       "    <tr>\n",
       "      <th>6</th>\n",
       "      <td>A126D</td>\n",
       "      <td>0.5325</td>\n",
       "      <td>55.7</td>\n",
       "      <td>3.1</td>\n",
       "      <td>0.23</td>\n",
       "      <td>68.7</td>\n",
       "      <td>3.5</td>\n",
       "      <td>0.21</td>\n",
       "      <td>1.0</td>\n",
       "    </tr>\n",
       "    <tr>\n",
       "      <th>7</th>\n",
       "      <td>G127R</td>\n",
       "      <td>0.9753</td>\n",
       "      <td>0.0</td>\n",
       "      <td>5.2</td>\n",
       "      <td>0.49</td>\n",
       "      <td>0.0</td>\n",
       "      <td>8.3</td>\n",
       "      <td>0.74</td>\n",
       "      <td>2.0</td>\n",
       "    </tr>\n",
       "    <tr>\n",
       "      <th>8</th>\n",
       "      <td>G129R</td>\n",
       "      <td>0.8214</td>\n",
       "      <td>18.3</td>\n",
       "      <td>6.1</td>\n",
       "      <td>0.44</td>\n",
       "      <td>23.3</td>\n",
       "      <td>4.7</td>\n",
       "      <td>0.37</td>\n",
       "      <td>2.0</td>\n",
       "    </tr>\n",
       "    <tr>\n",
       "      <th>9</th>\n",
       "      <td>G129E</td>\n",
       "      <td>0.8841</td>\n",
       "      <td>18.3</td>\n",
       "      <td>6.1</td>\n",
       "      <td>0.44</td>\n",
       "      <td>4.5</td>\n",
       "      <td>7.3</td>\n",
       "      <td>0.61</td>\n",
       "      <td>2.0</td>\n",
       "    </tr>\n",
       "    <tr>\n",
       "      <th>10</th>\n",
       "      <td>R130Q</td>\n",
       "      <td>0.5361</td>\n",
       "      <td>3.1</td>\n",
       "      <td>6.5</td>\n",
       "      <td>0.49</td>\n",
       "      <td>11.6</td>\n",
       "      <td>6.8</td>\n",
       "      <td>0.49</td>\n",
       "      <td>1.0</td>\n",
       "    </tr>\n",
       "    <tr>\n",
       "      <th>11</th>\n",
       "      <td>R130P</td>\n",
       "      <td>0.9134</td>\n",
       "      <td>3.1</td>\n",
       "      <td>6.5</td>\n",
       "      <td>0.49</td>\n",
       "      <td>15.6</td>\n",
       "      <td>6.3</td>\n",
       "      <td>0.44</td>\n",
       "      <td>2.0</td>\n",
       "    </tr>\n",
       "    <tr>\n",
       "      <th>12</th>\n",
       "      <td>R130L</td>\n",
       "      <td>0.4728</td>\n",
       "      <td>3.1</td>\n",
       "      <td>6.5</td>\n",
       "      <td>0.49</td>\n",
       "      <td>8.0</td>\n",
       "      <td>6.9</td>\n",
       "      <td>0.47</td>\n",
       "      <td>1.0</td>\n",
       "    </tr>\n",
       "    <tr>\n",
       "      <th>13</th>\n",
       "      <td>T131I</td>\n",
       "      <td>0.4788</td>\n",
       "      <td>0.0</td>\n",
       "      <td>9.1</td>\n",
       "      <td>0.59</td>\n",
       "      <td>0.0</td>\n",
       "      <td>9.1</td>\n",
       "      <td>0.64</td>\n",
       "      <td>1.0</td>\n",
       "    </tr>\n",
       "    <tr>\n",
       "      <th>14</th>\n",
       "      <td>G132D</td>\n",
       "      <td>0.6304</td>\n",
       "      <td>0.0</td>\n",
       "      <td>11.0</td>\n",
       "      <td>0.64</td>\n",
       "      <td>0.0</td>\n",
       "      <td>10.4</td>\n",
       "      <td>0.72</td>\n",
       "      <td>1.0</td>\n",
       "    </tr>\n",
       "    <tr>\n",
       "      <th>15</th>\n",
       "      <td>Y155C</td>\n",
       "      <td>0.5901</td>\n",
       "      <td>0.0</td>\n",
       "      <td>8.7</td>\n",
       "      <td>0.51</td>\n",
       "      <td>4.0</td>\n",
       "      <td>9.1</td>\n",
       "      <td>0.39</td>\n",
       "      <td>1.0</td>\n",
       "    </tr>\n",
       "    <tr>\n",
       "      <th>16</th>\n",
       "      <td>T167N</td>\n",
       "      <td>0.5664</td>\n",
       "      <td>32.8</td>\n",
       "      <td>3.7</td>\n",
       "      <td>0.29</td>\n",
       "      <td>34.3</td>\n",
       "      <td>3.8</td>\n",
       "      <td>0.28</td>\n",
       "      <td>1.0</td>\n",
       "    </tr>\n",
       "    <tr>\n",
       "      <th>17</th>\n",
       "      <td>Y176C</td>\n",
       "      <td>0.5603</td>\n",
       "      <td>52.3</td>\n",
       "      <td>3.6</td>\n",
       "      <td>0.33</td>\n",
       "      <td>75.7</td>\n",
       "      <td>3.3</td>\n",
       "      <td>0.28</td>\n",
       "      <td>1.0</td>\n",
       "    </tr>\n",
       "    <tr>\n",
       "      <th>18</th>\n",
       "      <td>Y180H</td>\n",
       "      <td>0.1171</td>\n",
       "      <td>54.0</td>\n",
       "      <td>3.8</td>\n",
       "      <td>0.35</td>\n",
       "      <td>54.7</td>\n",
       "      <td>3.6</td>\n",
       "      <td>0.33</td>\n",
       "      <td>0.0</td>\n",
       "    </tr>\n",
       "    <tr>\n",
       "      <th>19</th>\n",
       "      <td>M198I</td>\n",
       "      <td>0.1821</td>\n",
       "      <td>0.0</td>\n",
       "      <td>11.3</td>\n",
       "      <td>0.55</td>\n",
       "      <td>0.0</td>\n",
       "      <td>11.0</td>\n",
       "      <td>0.52</td>\n",
       "      <td>0.0</td>\n",
       "    </tr>\n",
       "    <tr>\n",
       "      <th>20</th>\n",
       "      <td>N228S</td>\n",
       "      <td>0.1243</td>\n",
       "      <td>108.4</td>\n",
       "      <td>3.3</td>\n",
       "      <td>0.15</td>\n",
       "      <td>105.2</td>\n",
       "      <td>3.0</td>\n",
       "      <td>0.15</td>\n",
       "      <td>0.0</td>\n",
       "    </tr>\n",
       "    <tr>\n",
       "      <th>21</th>\n",
       "      <td>P246L</td>\n",
       "      <td>0.6162</td>\n",
       "      <td>45.3</td>\n",
       "      <td>3.4</td>\n",
       "      <td>0.27</td>\n",
       "      <td>55.1</td>\n",
       "      <td>3.7</td>\n",
       "      <td>0.28</td>\n",
       "      <td>1.0</td>\n",
       "    </tr>\n",
       "    <tr>\n",
       "      <th>22</th>\n",
       "      <td>N262S</td>\n",
       "      <td>0.1021</td>\n",
       "      <td>86.7</td>\n",
       "      <td>3.4</td>\n",
       "      <td>0.20</td>\n",
       "      <td>85.1</td>\n",
       "      <td>3.3</td>\n",
       "      <td>0.19</td>\n",
       "      <td>0.0</td>\n",
       "    </tr>\n",
       "    <tr>\n",
       "      <th>23</th>\n",
       "      <td>D268E</td>\n",
       "      <td>0.1080</td>\n",
       "      <td>55.5</td>\n",
       "      <td>3.6</td>\n",
       "      <td>0.30</td>\n",
       "      <td>51.0</td>\n",
       "      <td>3.5</td>\n",
       "      <td>0.28</td>\n",
       "      <td>0.0</td>\n",
       "    </tr>\n",
       "  </tbody>\n",
       "</table>\n",
       "</div>"
      ],
      "text/plain": [
       "   variant  MCF10A score  WT_RSA (%)  WT_DEPTH (_)  WT_OSP  MT_RSA (%)  \\\n",
       "0     A79T        0.5711        86.3           3.1    0.19        80.2   \n",
       "1    N117S        0.4916        25.3           4.0    0.51        10.1   \n",
       "2    H123Q        0.9934         0.0          11.0    0.60         0.0   \n",
       "3    H123Y        0.6383         0.0          11.0    0.60         0.0   \n",
       "4    C124S        0.8797         4.3           6.7    0.52         4.3   \n",
       "5    C124R        0.6986         4.3           6.7    0.52         8.1   \n",
       "6    A126D        0.5325        55.7           3.1    0.23        68.7   \n",
       "7    G127R        0.9753         0.0           5.2    0.49         0.0   \n",
       "8    G129R        0.8214        18.3           6.1    0.44        23.3   \n",
       "9    G129E        0.8841        18.3           6.1    0.44         4.5   \n",
       "10   R130Q        0.5361         3.1           6.5    0.49        11.6   \n",
       "11   R130P        0.9134         3.1           6.5    0.49        15.6   \n",
       "12   R130L        0.4728         3.1           6.5    0.49         8.0   \n",
       "13   T131I        0.4788         0.0           9.1    0.59         0.0   \n",
       "14   G132D        0.6304         0.0          11.0    0.64         0.0   \n",
       "15   Y155C        0.5901         0.0           8.7    0.51         4.0   \n",
       "16   T167N        0.5664        32.8           3.7    0.29        34.3   \n",
       "17   Y176C        0.5603        52.3           3.6    0.33        75.7   \n",
       "18   Y180H        0.1171        54.0           3.8    0.35        54.7   \n",
       "19   M198I        0.1821         0.0          11.3    0.55         0.0   \n",
       "20   N228S        0.1243       108.4           3.3    0.15       105.2   \n",
       "21   P246L        0.6162        45.3           3.4    0.27        55.1   \n",
       "22   N262S        0.1021        86.7           3.4    0.20        85.1   \n",
       "23   D268E        0.1080        55.5           3.6    0.30        51.0   \n",
       "\n",
       "    MT_DEPTH (_)  MT_OSP  ground truth  \n",
       "0            3.2    0.19           2.0  \n",
       "1            4.0    0.53           1.0  \n",
       "2           11.4    0.64           1.0  \n",
       "3           12.1    0.58           1.0  \n",
       "4            7.3    0.54           2.0  \n",
       "5            5.8    0.48           2.0  \n",
       "6            3.5    0.21           1.0  \n",
       "7            8.3    0.74           2.0  \n",
       "8            4.7    0.37           2.0  \n",
       "9            7.3    0.61           2.0  \n",
       "10           6.8    0.49           1.0  \n",
       "11           6.3    0.44           2.0  \n",
       "12           6.9    0.47           1.0  \n",
       "13           9.1    0.64           1.0  \n",
       "14          10.4    0.72           1.0  \n",
       "15           9.1    0.39           1.0  \n",
       "16           3.8    0.28           1.0  \n",
       "17           3.3    0.28           1.0  \n",
       "18           3.6    0.33           0.0  \n",
       "19          11.0    0.52           0.0  \n",
       "20           3.0    0.15           0.0  \n",
       "21           3.7    0.28           1.0  \n",
       "22           3.3    0.19           0.0  \n",
       "23           3.5    0.28           0.0  "
      ]
     },
     "execution_count": 6,
     "metadata": {},
     "output_type": "execute_result"
    }
   ],
   "source": [
    "training_df.reset_index(drop=True)"
   ]
  },
  {
   "cell_type": "code",
   "execution_count": 60,
   "metadata": {
    "collapsed": true
   },
   "outputs": [],
   "source": [
    "#X = training_df.iloc[:, 1:-1]\n",
    "#y = training_df.iloc[:, -1]"
   ]
  },
  {
   "cell_type": "code",
   "execution_count": 7,
   "metadata": {
    "collapsed": true
   },
   "outputs": [],
   "source": [
    "X = training_df[['MCF10A score']]\n",
    "y = training_df.iloc[:, -1]"
   ]
  },
  {
   "cell_type": "code",
   "execution_count": 8,
   "metadata": {},
   "outputs": [
    {
     "data": {
      "text/plain": [
       "(24, 1)"
      ]
     },
     "execution_count": 8,
     "metadata": {},
     "output_type": "execute_result"
    }
   ],
   "source": [
    "X.shape"
   ]
  },
  {
   "cell_type": "markdown",
   "metadata": {},
   "source": [
    "# Applying SVM"
   ]
  },
  {
   "cell_type": "code",
   "execution_count": 9,
   "metadata": {
    "collapsed": true
   },
   "outputs": [],
   "source": [
    "from sklearn import svm\n",
    "from sklearn.model_selection import cross_val_score\n",
    "from sklearn.metrics import accuracy_score"
   ]
  },
  {
   "cell_type": "code",
   "execution_count": 10,
   "metadata": {},
   "outputs": [
    {
     "name": "stderr",
     "output_type": "stream",
     "text": [
      "/Users/jessesnaust/anaconda/lib/python3.6/site-packages/sklearn/model_selection/_split.py:2179: FutureWarning: From version 0.21, test_size will always complement train_size unless both are specified.\n",
      "  FutureWarning)\n"
     ]
    }
   ],
   "source": [
    "# split data into training and testing sets\n",
    "\n",
    "X_train, X_test, y_train, y_test = \\\n",
    "    train_test_split(X, y, train_size=0.7, random_state=0)"
   ]
  },
  {
   "cell_type": "code",
   "execution_count": 11,
   "metadata": {
    "collapsed": true
   },
   "outputs": [],
   "source": [
    "SVM = svm.SVC(gamma='scale', decision_function_shape='ovo')"
   ]
  },
  {
   "cell_type": "markdown",
   "metadata": {},
   "source": [
    "# cross validation"
   ]
  },
  {
   "cell_type": "code",
   "execution_count": 12,
   "metadata": {},
   "outputs": [
    {
     "name": "stdout",
     "output_type": "stream",
     "text": [
      "[0.66666667 0.83333333 1.         1.         1.        ]\n"
     ]
    }
   ],
   "source": [
    "# perform 5-fold cross validation\n",
    "\n",
    "kfold_scores = cross_val_score(SVM, X, y, cv=5)\n",
    "print(kfold_scores)"
   ]
  },
  {
   "cell_type": "code",
   "execution_count": 13,
   "metadata": {},
   "outputs": [
    {
     "name": "stdout",
     "output_type": "stream",
     "text": [
      "0.9\n"
     ]
    }
   ],
   "source": [
    "print(np.mean(kfold_scores))"
   ]
  },
  {
   "cell_type": "code",
   "execution_count": null,
   "metadata": {
    "collapsed": true
   },
   "outputs": [],
   "source": [
    "# needs work\n",
    "# cross_val_predict(SVM, X, y, cv=5)"
   ]
  },
  {
   "cell_type": "code",
   "execution_count": 14,
   "metadata": {
    "collapsed": true
   },
   "outputs": [],
   "source": [
    "SVM.fit(X_train, y_train) \n",
    "SVM_pred = SVM.predict(X_test)  "
   ]
  },
  {
   "cell_type": "code",
   "execution_count": 15,
   "metadata": {
    "collapsed": true
   },
   "outputs": [],
   "source": [
    "scores = accuracy_score(y_test, SVM_pred)"
   ]
  },
  {
   "cell_type": "code",
   "execution_count": 16,
   "metadata": {},
   "outputs": [
    {
     "name": "stdout",
     "output_type": "stream",
     "text": [
      "1.0\n"
     ]
    }
   ],
   "source": [
    "print(scores)"
   ]
  },
  {
   "cell_type": "code",
   "execution_count": 17,
   "metadata": {},
   "outputs": [
    {
     "name": "stdout",
     "output_type": "stream",
     "text": [
      "[2. 1. 0. 1. 0. 1. 1. 0.]\n"
     ]
    }
   ],
   "source": [
    "print(SVM_pred)"
   ]
  },
  {
   "cell_type": "code",
   "execution_count": 18,
   "metadata": {
    "collapsed": true
   },
   "outputs": [],
   "source": [
    "#X_all = df.iloc[:, 1:-1].dropna().reset_index(drop=True)\n",
    "X_all = df[['MCF10A score']]"
   ]
  },
  {
   "cell_type": "code",
   "execution_count": 101,
   "metadata": {
    "collapsed": true
   },
   "outputs": [],
   "source": [
    "#X_all.drop(columns=['CADD','SNAP2','PolyPhen','SIFT'], inplace=True)"
   ]
  },
  {
   "cell_type": "code",
   "execution_count": 19,
   "metadata": {
    "collapsed": true
   },
   "outputs": [],
   "source": [
    "SVM_pred_all = SVM.predict(X_all)"
   ]
  },
  {
   "cell_type": "code",
   "execution_count": 20,
   "metadata": {},
   "outputs": [
    {
     "name": "stdout",
     "output_type": "stream",
     "text": [
      "[1. 1. 1. 1. 1. 1. 1. 0. 1. 1. 2. 2. 1. 2. 1. 2. 1. 1. 2. 2. 2. 1. 2. 1.\n",
      " 1. 1. 2. 1. 1. 1. 1. 1. 1. 1. 0. 1. 0. 0. 0. 1. 1. 0. 0. 2. 2. 0. 1.]\n"
     ]
    }
   ],
   "source": [
    "print(SVM_pred_all)"
   ]
  },
  {
   "cell_type": "code",
   "execution_count": 21,
   "metadata": {},
   "outputs": [
    {
     "data": {
      "text/plain": [
       "47"
      ]
     },
     "execution_count": 21,
     "metadata": {},
     "output_type": "execute_result"
    }
   ],
   "source": [
    "len(SVM_pred_all)"
   ]
  },
  {
   "cell_type": "code",
   "execution_count": 22,
   "metadata": {},
   "outputs": [
    {
     "name": "stdout",
     "output_type": "stream",
     "text": [
      "   variant  MCF10A score  CADD  SNAP2  PolyPhen  SIFT  WT_RSA (%)  \\\n",
      "0      K6E        0.3311  26.6     67     0.155  0.99         NaN   \n",
      "1      K6I        0.4544  27.3     64     0.244  1.00         NaN   \n",
      "2     R15S        0.3870  25.0     65     0.123  1.00        53.3   \n",
      "3     M35V        0.3606  25.0     44     0.914  1.00         0.0   \n",
      "4     P38H        0.3521  26.1     44     1.000  1.00         0.0   \n",
      "5     G44D        0.6232  26.0     65     0.968  1.00       117.5   \n",
      "6     A79T        0.5711  23.0    -95     0.005  0.41        86.3   \n",
      "7     D92N        0.2677  28.8     90     1.000  1.00        44.3   \n",
      "8     H93Q        0.3301  26.1     77     1.000  1.00        74.5   \n",
      "9     H93R        0.3930  27.0     83     0.998  0.97        74.5   \n",
      "10   I101F        0.8803  26.0      6     0.998  1.00         0.2   \n",
      "11   I101T        0.7138  29.0     44     0.998  1.00         0.2   \n",
      "\n",
      "    WT_DEPTH (_)  WT_OSP  MT_RSA (%)  MT_DEPTH (_)  MT_OSP  ground truth  SVM  \n",
      "0            NaN     NaN         NaN           NaN     NaN           NaN  1.0  \n",
      "1            NaN     NaN         NaN           NaN     NaN           NaN  1.0  \n",
      "2            3.6    0.32        52.3           3.6    0.37           NaN  1.0  \n",
      "3           10.8    0.53         2.7          10.3    0.50           NaN  1.0  \n",
      "4           10.5    0.60         0.0          11.3    0.62           NaN  1.0  \n",
      "5            3.4    0.14        98.9           3.3    0.12           NaN  1.0  \n",
      "6            3.1    0.19        80.2           3.2    0.19           2.0  1.0  \n",
      "7            3.7    0.32        44.6           3.9    0.34           NaN  0.0  \n",
      "8            3.4    0.22        78.0           3.5    0.21           NaN  1.0  \n",
      "9            3.4    0.22        79.1           3.4    0.16           NaN  1.0  \n",
      "10           8.7    0.49         0.8           8.8    0.56           NaN  2.0  \n",
      "11           8.7    0.49         2.8           8.4    0.44           NaN  2.0  \n"
     ]
    }
   ],
   "source": [
    "df['SVM'] = SVM_pred_all\n",
    "\n",
    "print(df.head(12))"
   ]
  },
  {
   "cell_type": "code",
   "execution_count": 23,
   "metadata": {},
   "outputs": [
    {
     "name": "stdout",
     "output_type": "stream",
     "text": [
      "variant  K6E  K6I  R15S  M35V  P38H  G44D  A79T  D92N  H93Q  H93R  ...  M198I  \\\n",
      "SVM      1.0  1.0   1.0   1.0   1.0   1.0   1.0   0.0   1.0   1.0  ...    0.0   \n",
      "\n",
      "variant  N228S  T232A  P246L  N262S  D268E  D326N  K342N  P354Q  T382S  \n",
      "SVM        0.0    1.0    1.0    0.0    0.0    2.0    2.0    0.0    1.0  \n",
      "\n",
      "[1 rows x 47 columns]\n"
     ]
    }
   ],
   "source": [
    "# visualizing sVM classification\n",
    "\n",
    "# now generate a new df to plot heatmap\n",
    "df_class = df[['SVM']].transpose()\n",
    "df_class.columns = df.iloc[:,0]\n",
    "\n",
    "print(df_class)"
   ]
  },
  {
   "cell_type": "code",
   "execution_count": 27,
   "metadata": {
    "collapsed": true
   },
   "outputs": [],
   "source": [
    "# this will modify the range of the colormap by truncation\n",
    "# https://stackoverflow.com/questions/18926031/how-to-extract-a-subset-of-a-colormap-as-a-new-colormap-in-matplotlib\n",
    "import matplotlib.colors as colors\n",
    "\n",
    "def truncate_colormap(cmap, minval=0.0, maxval=1.0, n=100):\n",
    "    new_cmap = colors.LinearSegmentedColormap.from_list(\n",
    "        'trunc({n},{a:.2f},{b:.2f})'.format(n=cmap.name, a=minval, b=maxval),\n",
    "        cmap(np.linspace(minval, maxval, n)))\n",
    "    return new_cmap"
   ]
  },
  {
   "cell_type": "code",
   "execution_count": 29,
   "metadata": {},
   "outputs": [
    {
     "data": {
      "image/png": "[encoded data removed]",
      "text/plain": [
       "<Figure size 1400x1000 with 2 Axes>"
      ]
     },
     "metadata": {},
     "output_type": "display_data"
    }
   ],
   "source": [
    "# specify custom colormap\n",
    "#cmap = colors.ListedColormap(['green','red','black','yellow'])\n",
    "\n",
    "# generating figure\n",
    "fig = plt.figure(figsize=(7,5), dpi=200)\n",
    "ax = fig.add_subplot(111)\n",
    "\n",
    "# getting custom colors\n",
    "cmap = plt.get_cmap('Reds') \n",
    "new_cmap = truncate_colormap(cmap, 0.0, 0.69)\n",
    "\n",
    "#plotting\n",
    "im = ax.imshow(df_class, cmap=new_cmap)\n",
    "    \n",
    "# set the ticks...\n",
    "ax.set_xticks(np.arange(len(df_class.columns)))\n",
    "ax.set_yticks(np.arange(1))\n",
    "    \n",
    "# label the ticks\n",
    "ax.set_xticklabels(df_class.columns, fontsize=6, rotation=90)\n",
    "ax.set_yticklabels(list(df_class.index), fontsize=6)\n",
    " \n",
    "# set white grids\n",
    "ax.set_xticks(np.arange(len(df_class.columns)+1)-0.5, minor=True)\n",
    "ax.grid(which=\"minor\", color=\"w\", linestyle='-', linewidth=0.4)\n",
    "ax.tick_params(which=\"minor\", bottom=False, left=False)\n",
    "    \n",
    "# set the title\n",
    "ax.set_title('classification of MCF10A scores')\n",
    "\n",
    "# add colorbar\n",
    "cbar = ax.figure.colorbar(im, cax = fig.add_axes([0.92, 0.45, 0.01, 0.1]))\n",
    "cbar.ax.tick_params(labelsize=6)\n",
    "\n",
    "mpl.rcParams['pdf.fonttype'] = 42\n",
    "plt.savefig('Output PDFs/MCF10A_classifications_SVM.pdf', transparent=True)\n",
    "\n",
    "plt.show()"
   ]
  },
  {
   "cell_type": "code",
   "execution_count": 32,
   "metadata": {
    "collapsed": true
   },
   "outputs": [],
   "source": [
    "df.to_csv('Output Datasets/MCF10A scores_SVM_classification.csv', index=False)"
   ]
  },
  {
   "cell_type": "code",
   "execution_count": null,
   "metadata": {
    "collapsed": true
   },
   "outputs": [],
   "source": []
  }
 ],
 "metadata": {
  "kernelspec": {
   "display_name": "Python 3",
   "language": "python",
   "name": "python3"
  },
  "language_info": {
   "codemirror_mode": {
    "name": "ipython",
    "version": 3
   },
   "file_extension": ".py",
   "mimetype": "text/x-python",
   "name": "python",
   "nbconvert_exporter": "python",
   "pygments_lexer": "ipython3",
   "version": "3.6.8"
  }
 },
 "nbformat": 4,
 "nbformat_minor": 2
}
